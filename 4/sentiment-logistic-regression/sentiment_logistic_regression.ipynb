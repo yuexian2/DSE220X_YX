{
 "cells": [
  {
   "cell_type": "markdown",
   "metadata": {},
   "source": [
    "# Sentiment analysis using logistic regression"
   ]
  },
  {
   "cell_type": "markdown",
   "metadata": {},
   "source": [
    "The **`sentiment`** data set consists of 3000 sentences which come from reviews on `imdb.com`, `amazon.com`, and `yelp.com`. Each sentence is labeled according to whether it comes from a positive review or negative review.\n",
    "\n",
    "We will use <font color=\"magenta\">logistic regression</font> to learn a classifier from this data.\n",
    "\n",
    "Before starting on this notebook, download the data from https://archive.ics.uci.edu/ml/datasets/Sentiment+Labelled+Sentences. The folder `sentiment_labelled_sentences` (containing the data file `full_set.txt`) should be in the same directory as the notebook."
   ]
  },
  {
   "cell_type": "markdown",
   "metadata": {},
   "source": [
    "## 1. Set up notebook, load and preprocess data"
   ]
  },
  {
   "cell_type": "markdown",
   "metadata": {},
   "source": [
    "First, some standard includes."
   ]
  },
  {
   "cell_type": "code",
   "execution_count": 71,
   "metadata": {},
   "outputs": [],
   "source": [
    "%matplotlib inline\n",
    "import string\n",
    "import numpy as np\n",
    "import matplotlib\n",
    "import matplotlib.pyplot as plt\n",
    "matplotlib.rc('xtick', labelsize=14) \n",
    "matplotlib.rc('ytick', labelsize=14)"
   ]
  },
  {
   "cell_type": "markdown",
   "metadata": {},
   "source": [
    "Now, we load in the data. Make sure the notebook is the same directory as the folder `sentiment_labelled_sentences`, and that the folder contains `full_set.txt`.\n",
    "\n",
    "The data set consists of 3000 sentences, each labeled '1' (if it came from a positive review) or '0' (if it came from a negative review). To be consistent with our notation from lecture, we will change the negative review label to '-1'."
   ]
  },
  {
   "cell_type": "code",
   "execution_count": 72,
   "metadata": {},
   "outputs": [],
   "source": [
    "## Read in the data set.\n",
    "with open(\"sentiment_labelled_sentences/full_set.txt\") as f:\n",
    "    content = f.readlines()\n",
    "    \n",
    "## Remove leading and trailing white space\n",
    "content = [x.strip() for x in content]\n",
    "\n",
    "## Separate the sentences from the labels\n",
    "sentences = [x.split(\"\\t\")[0] for x in content]\n",
    "labels = [x.split(\"\\t\")[1] for x in content]\n",
    "\n",
    "## Transform the labels from '0 v.s. 1' to '-1 v.s. 1'\n",
    "y = np.array(labels, dtype='int8')\n",
    "y = 2*y - 1\n",
    "#sentences"
   ]
  },
  {
   "cell_type": "code",
   "execution_count": 73,
   "metadata": {},
   "outputs": [
    {
     "data": {
      "text/plain": [
       "'Bad case, Excellent value.'"
      ]
     },
     "execution_count": 73,
     "metadata": {},
     "output_type": "execute_result"
    }
   ],
   "source": [
    "sentences[1]\n",
    "x = sentences[1].replace('Good','Bad')\n",
    "x"
   ]
  },
  {
   "cell_type": "code",
   "execution_count": 74,
   "metadata": {},
   "outputs": [
    {
     "data": {
      "text/plain": [
       "'G'"
      ]
     },
     "execution_count": 74,
     "metadata": {},
     "output_type": "execute_result"
    }
   ],
   "source": [
    "sentences[1][0]"
   ]
  },
  {
   "cell_type": "code",
   "execution_count": 75,
   "metadata": {},
   "outputs": [
    {
     "data": {
      "text/plain": [
       "10"
      ]
     },
     "execution_count": 75,
     "metadata": {},
     "output_type": "execute_result"
    }
   ],
   "source": [
    "i = 0\n",
    "for x in sentences [0:10]:\n",
    "    i = i+1\n",
    "i"
   ]
  },
  {
   "cell_type": "markdown",
   "metadata": {},
   "source": [
    "### Preprocessing the text data\n",
    "\n",
    "To transform this prediction problem into one amenable to linear classification, we will first need to preprocess the text data. We will do four transformations:\n",
    "\n",
    "1. Remove punctuation and numbers.\n",
    "2. Transform all words to lower-case.\n",
    "3. Remove _stop words_.\n",
    "4. Convert the sentences into vectors, using a bag-of-words representation.\n",
    "\n",
    "We begin with first two steps."
   ]
  },
  {
   "cell_type": "code",
   "execution_count": 76,
   "metadata": {},
   "outputs": [
    {
     "data": {
      "text/plain": [
       "['so there is no way for me to plug it in here in the us unless i go by a converter ',\n",
       " 'good case  excellent value ',\n",
       " 'great for the jawbone ',\n",
       " 'tied to charger for conversations lasting more than    minutes major problems  ',\n",
       " 'the mic is great ',\n",
       " 'i have to jiggle the plug to get it to line up right to get decent volume ',\n",
       " 'if you have several dozen or several hundred contacts  then imagine the fun of sending each of them one by one ',\n",
       " 'if you are razr owner   you must have this ',\n",
       " 'needless to say  i wasted my money ',\n",
       " 'what a waste of money and time  ',\n",
       " 'and the sound quality is great ',\n",
       " 'he was very impressed when going from the original battery to the extended battery ',\n",
       " 'if the two were seperated by a mere    ft i started to notice excessive static and garbled sound from the headset ',\n",
       " 'very good quality though',\n",
       " 'the design is very odd  as the ear  clip  is not very comfortable at all ',\n",
       " 'highly recommend for any one who has a blue tooth phone ',\n",
       " 'i advise everyone do not be fooled ',\n",
       " 'so far so good  ',\n",
       " 'works great  ',\n",
       " 'it clicks into place in a way that makes you wonder how long that mechanism would last ',\n",
       " 'i went on motorola s website and followed all directions  but could not get it to pair again ',\n",
       " 'i bought this to use with my kindle fire and absolutely loved it ',\n",
       " 'the commercials are the most misleading ',\n",
       " 'i have yet to run this new battery below two bars and that s three days without charging ',\n",
       " 'i bought it for my mother and she had a problem with the battery ',\n",
       " 'great pocket pc   phone combination ',\n",
       " 'i ve owned this phone for   months now and can say that it s the best mobile phone i ve had ',\n",
       " 'i didn t think that the instructions provided were helpful to me ',\n",
       " 'people couldnt hear me talk and i had to pull out the earphone and talk on the phone ',\n",
       " 'doesn t hold charge ',\n",
       " 'this is a simple little phone to use  but the breakage is unacceptible ',\n",
       " 'this product is ideal for people like me whose ears are very sensitive ',\n",
       " 'it is unusable in a moving car at freeway speed ',\n",
       " 'i have two more years left in this contract and i hate this phone ',\n",
       " 'car charger as well as ac charger are included to make sure you never run out of juice highy recommended',\n",
       " 'you need at least   mins to get to your phone book from the time you first turn on the phone battery life is short ',\n",
       " 'it has kept up very well ',\n",
       " 'poor talk time performance ',\n",
       " 'the case is great and works fine with the     ',\n",
       " 'worthless product ',\n",
       " 'it has a great camera thats  mp  and the pics are nice and clear with great picture quality ',\n",
       " 'i was not impressed by this product ',\n",
       " 'nice headset priced right ',\n",
       " 'i only hear garbage for audio ',\n",
       " 'excellent bluetooth headset ',\n",
       " 'it has all the features i want',\n",
       " 'who in their right mind is gonna buy this battery  ',\n",
       " 'after arguing with verizon regarding the dropped calls we returned the phones after two days ',\n",
       " 'this case seems well made ',\n",
       " 'disappointed with battery ',\n",
       " 'not loud enough and doesn t turn on like it should ',\n",
       " 'good protection and does not make phone too bulky ',\n",
       " 'a usable keyboard actually turns a pda into a real world useful machine instead of just a neat gadget ',\n",
       " 'this phone is pretty sturdy and i ve never had any large problems with it ',\n",
       " 'i love this thing ',\n",
       " 'everything about it is fine and reasonable for the price i e ',\n",
       " 'very disappointed ',\n",
       " 'i even dropped this phone into a stream and it was submerged for    seconds and it still works great ',\n",
       " 'i have been very happy with the     and have had no complaints from any one regarding my sound quality on their end ',\n",
       " 'the buttons for on and off are bad ',\n",
       " 'essentially you can forget microsoft s tech support ',\n",
       " 'i really recommend this faceplates since it looks very nice  elegant and cool ',\n",
       " 'these headphones were a great find   and i think they are perhaps the best purchase i ve made in the last several years   seriously ',\n",
       " 'buy a different phone   but not this ',\n",
       " 'you have to hold the phone at a particular angle for the other party to hear you clearly ',\n",
       " 'the one big drawback of the mp  player is that the buttons on the phone s front cover that let you pause and skip songs lock out after a few seconds ',\n",
       " 'a week later after i activated it  it suddenly died ',\n",
       " 'it feels more comfortable than most headsets because i wear glasses and that gets in the way sometimes ',\n",
       " 'great for ipods too ',\n",
       " 'this device is great in several situations    ',\n",
       " 'mic doesn t work ',\n",
       " 'even in my bmw   series which is fairly quiet  i have trouble hearing what the other person is saying ',\n",
       " 'great choice ',\n",
       " 'nice docking station for home or work ',\n",
       " 'this is a beautiful phone ',\n",
       " 'love this product ',\n",
       " 'do not buy for d      wrongly advertised for d    ',\n",
       " 'this is a great little item ',\n",
       " 'i love this phone   it is very handy and has a lot of features  ',\n",
       " 'i purchased this and within   days it was no longer working         ',\n",
       " 'i wear it everyday and it holds up very well ',\n",
       " 'not a good bargain ',\n",
       " 'well packaged  arrived on time  and works as intended ',\n",
       " 'the battery runs down quickly ',\n",
       " 'this item worked great  but it broke after   months of use ',\n",
       " 'the headsets are easy to use and everyone loves them ',\n",
       " 'this phone works great ',\n",
       " 'the construction of the headsets is poor ',\n",
       " 'product was excellent and works better than the verizon one and boy was it cheaper ',\n",
       " 'the phone loads super ',\n",
       " 'for a product that costs as much as this one does  i expect it to work far better and with greater ease than this thing does ',\n",
       " 'made very sturdy ',\n",
       " 'worked great  ',\n",
       " 'the ear buds only play music in one ear ',\n",
       " 'dont waste your money   ',\n",
       " 'will order from them again ',\n",
       " 'if you plan to use this in a car forget about it ',\n",
       " 'i found this product to be waaay too big ',\n",
       " 'best i ve found so far      i ve tried   other bluetooths and this one has the best quality  for both me and the listener  as well as ease of using ',\n",
       " 'i m very disappointed with my decision ',\n",
       " 'integrated seamlessly with the motorola razr phone ',\n",
       " 'buyer beware  you could flush money right down the toilet ',\n",
       " 'definitely a bargain ',\n",
       " 'the price was very good and with the free shipping and all it was a good purchase ',\n",
       " 'i received my supposedly new motorola     and apparently there was not a match between the phone and the charger ',\n",
       " 'pros  good camera   very nice pictures   also has cool styles like black and white  and more ',\n",
       " 'that s a huge design flaw  unless i m not using it correctly  which i don t think is the case  ',\n",
       " 'i love my     headset   my jabra    bluetooth headset is great  the reception is very good and the ear piece is a comfortable fit ',\n",
       " 'the camera  although rated at an impressive     megapixels  renders images that fall well below expectations of such a relatively high resolution ',\n",
       " 'i purcashed this for the car charger and it does not work ',\n",
       " 'sound quality on both end is excellent  i use headset to call my wife and ask my wife to use headset to call me    ',\n",
       " 'this phone is slim and light and the display is beautiful ',\n",
       " 'its a little geeky but i think thats its sex on toast and it rocks and oozes sex right down to its battery embedded sleek stylish leather case ',\n",
       " 'great product  fast shipping  ',\n",
       " 'absolutely great ',\n",
       " 'the keyboard is a nice compromise between a full qwerty and the basic cell phone number keypad ',\n",
       " 'i got this phone around the end of may and i m completely unhappy with it ',\n",
       " 'it is very comfortable on the ear ',\n",
       " 'it has been a winner for us ',\n",
       " ' setup couldn t have been simpler ',\n",
       " 'i ve tried several different earpieces for my cell phone and this jabra one is the first one i ve found that fits my ear comfortably ',\n",
       " 'could not get strong enough signal ',\n",
       " 'iam very pleased with my purchase ',\n",
       " 'bad quality ',\n",
       " 'gets the job done ',\n",
       " 'great audio  ',\n",
       " 'basically the service was very bad ',\n",
       " 'it did not work in my cell phone plug i am very up set with the charger  ',\n",
       " 'i ve only had my bluetooth for a few weeks  but i really like it ',\n",
       " 'the bt headset was such a disapoinment ',\n",
       " 'it is so small and you don t even realize that it is there after a while of getting used to it ',\n",
       " 'the accompanied software is almost brilliant ',\n",
       " 'headset works great   was packaged nicely to avoid any damage ',\n",
       " ' i definitly recommend  ',\n",
       " 'buyer  be very careful      ',\n",
       " 'the majority of the logitech earbud headsets failed ',\n",
       " 'very good stuff for the price ',\n",
       " 'my headset works just peachy keen ',\n",
       " 'in my house i was getting dropped coverage upstairs and no coverage in my basement ',\n",
       " 'voice recognition is tremendous ',\n",
       " 'what a waste ',\n",
       " 'during several different   minute calls  i experienced   drops and it was in an area that had   bars ',\n",
       " 'i was not happy with this item ',\n",
       " 'very disappointed ',\n",
       " 'the phone takes forever to charge like   to   hours literally ',\n",
       " 'i got this phone on reccomendation from a relative and i m glad i did ',\n",
       " 'what a waste of time ',\n",
       " 'its reception is very very poor ',\n",
       " 'items stated as included from the description are not included ',\n",
       " 'after   months  screen just went black all of a sudden ',\n",
       " 'i was hoping for more ',\n",
       " 'audio quality is poor  very poor ',\n",
       " 'i had absolutely no problem with this headset linking to my      blackberry curve ',\n",
       " 'i know that sounds funny  but to me it seemed like sketchy technology that wouldn t work well well  this one works great ',\n",
       " 'i ve bought    wired headphones that sound better than these ',\n",
       " 'this phone is very fast with sending any kind of messages and web browsing is significantly faster than previous phones i have used ',\n",
       " 'nice quality build  unlike some cheap s    out there ',\n",
       " 'this item is fantastic and works perfectly ',\n",
       " 'and i just love the colors ',\n",
       " 'w   i is just superb ',\n",
       " 'all i can do is whine on the internet  so here it goes the more i use the thing the less i like it ',\n",
       " 'great charger ',\n",
       " 'this is essentially a communications tool that does not communicate ',\n",
       " 'works like a charm  it work the same as the one i got with the phone ',\n",
       " 'i still maintain that monkeys shouldn t make headphones  we just obviously don t share enough dna to copy the design over to humans ',\n",
       " 'great value ',\n",
       " 'doesn t work at all   i bougth it for my l c and its not working ',\n",
       " 'the look of it is very sharp and the screen is nice and clear  with great graphics ',\n",
       " 'doesn t last long ',\n",
       " 'one thing i hate is the mode set button at the side ',\n",
       " 'excellent service         ',\n",
       " 'thank you for wasting my money ',\n",
       " 'how can that be the audio quality is poor ',\n",
       " 'the igo chargers and tips are really great ',\n",
       " 'the file browser offers all the options that one needs handsfree is great ',\n",
       " 'superb phone on a great network ',\n",
       " 'i connected my wife s bluetooth  motorola hs     to my phone and it worked like a charm whether the phone was in my pocket or the case ',\n",
       " 'i put the latest os on it  v    g   and it now likes to slow to a crawl and lock up every once in a while ',\n",
       " 'it only recognizes the phone as its storage device ',\n",
       " 'if you like a loud buzzing to override all your conversations  then this phone is for you ',\n",
       " 'don t buy this product ',\n",
       " 'i ve had this bluetoooth headset for some time now and still not comfortable with the way it fits on the ear ',\n",
       " 'the sound quality is good and functionality is awesome ',\n",
       " 'i have this phone and it is a thorn in my side  i really abhor it ',\n",
       " 'i recently had problems where i could not stay connected for more than    minutes before being disconnected ',\n",
       " 'incredible  ',\n",
       " 'design flaw  ',\n",
       " 'great phone  ',\n",
       " 'waste of    bucks ',\n",
       " 'but when i check voice mail at night  the keypad backlight turns off a few seconds into the first message  and then i m lost ',\n",
       " 'the replacement died in a few weeks ',\n",
       " 'any ring tone  overall good phone to buy  ',\n",
       " 'lately they have been extremely nice and helpful on the phone ',\n",
       " 'i have had problems wit hit dropping signal and more ',\n",
       " 'not impressed ',\n",
       " 'light weight  i hardly notice it is there ',\n",
       " 'you ll love how thin it is ',\n",
       " 'bad choice ',\n",
       " 'the pleather case doesn t fit ',\n",
       " 'useless phone  simply deaf ',\n",
       " 'the color is even prettier than i thought it would be  and the graphics are incredibly sharp ',\n",
       " 'all in all i think it was a good investment ',\n",
       " 'it makes very strange ticking noises before it ends the call ',\n",
       " 'the best electronics of the available fm transmitters ',\n",
       " 'battery lasts only a few hours ',\n",
       " 'great headset  very impressed   h    ',\n",
       " 'the       mega pixel camera  being a part of a phone  is reasonably good  ',\n",
       " 'i ve had this for nearly   years and it has worked great for me ',\n",
       " 'good transmit audio ',\n",
       " 'we are sending it back ',\n",
       " 'i did not bother contacting the company for few dollar product but i learned the lesson that i should not have bought this form online anyway ',\n",
       " 'if you hate earbugs  avoid this phone by all means ',\n",
       " 'great price also ',\n",
       " 'the range is very decent  i ve been able to roam around my house with the phone in the living room with no reception sound quality issues ',\n",
       " 'fast service ',\n",
       " 'i would highly recommend this ',\n",
       " 'i would recommend this ',\n",
       " 'i also didn t like the  on  button  it felt like it would crack with use ',\n",
       " 'worst phone ever ',\n",
       " 'i m still infatuated with this phone ',\n",
       " 'freezes frequently  ',\n",
       " 'it s kind of embarrassing to use because of how it looks and mostly it s embarrassing how child like the company is ',\n",
       " 'simple  lightweight and great fit ',\n",
       " 'all in all  i d expected a better consumer experience from motorola ',\n",
       " 'there s a horrible tick sound in the background on all my calls that i have never experienced before ',\n",
       " 'these are certainly very comfortable and functionality is decent ',\n",
       " 'i usually don t like headbands but this one is very lightweight   doesn t mess up my hair ',\n",
       " 'i m a bit disappointed ',\n",
       " 'i have had this phone for over a year now  and i will tell you  its not that great ',\n",
       " 'i ordered this for sony ericsson w   i but i think it only worked once  thats when i first used it  ',\n",
       " 'the battery is completely useless to me ',\n",
       " 'what a big waste of time ',\n",
       " 'don t waste your     on this one ',\n",
       " 'great sound and service ',\n",
       " 'really pleased with this product so far ',\n",
       " 'one of my favorite purchases ever ',\n",
       " 'best bluetooth on the market ',\n",
       " 'authentic leather with nice shine and comfort  i recommend you this case   ',\n",
       " 'i was very excited to get this headset because i thought it was really cute ',\n",
       " 'do not make the same mistake as me ',\n",
       " 'big disappointment with calendar sync ',\n",
       " 'the phone was unusable and was not new ',\n",
       " 'worst customer service ever ',\n",
       " 'no additional ear gels provided  and no instructions whatsoever ',\n",
       " 'it defeats the purpose of a bluetooth headset ',\n",
       " 'worth every penny ',\n",
       " 'excellent wallet type phone case ',\n",
       " 'nice headphones for the price and they work great ',\n",
       " 'internet is excrutiatingly slow ',\n",
       " 'it is very comfortable to wear as well  which is probably the most important aspect about using a case ',\n",
       " 'it s fits like a glove and is strong  secure  and durable ',\n",
       " 'o my gosh the best phone i have ever had ',\n",
       " 'it s very attractive and appears to be of good quality ',\n",
       " 'i love all the features and form factor ',\n",
       " 'this product had a strong rubber petroleum smell that was unbearable after a while and caused me to return it',\n",
       " 'poor quality and service ',\n",
       " 'the cable looks so thin and flimsy  it is scary ',\n",
       " 'great earpiece ',\n",
       " 'excellent hands free tool ',\n",
       " 'great for using with your home stereo ',\n",
       " 'good product   incredible value ',\n",
       " 'only had this a month but it s worked flawlessly so far ',\n",
       " 'works great ',\n",
       " 'absolutel junk ',\n",
       " 'that one didn t work either ',\n",
       " 'battery life is real good ',\n",
       " 'returned   hours later ',\n",
       " 'it s a great item ',\n",
       " 'don t waste your money  ',\n",
       " 'love this headset ',\n",
       " 'not only will it drain your player  but may also potentially fry it ',\n",
       " 'worked perfectly ',\n",
       " 'unreliable   i m giving up ',\n",
       " 'i gave it   stars because of the sound quality ',\n",
       " 'avoid this one if you can ',\n",
       " 'reversible plug works great ',\n",
       " 'i wasted my little money with this earpiece ',\n",
       " 'very good phone ',\n",
       " 'best of all is the rotating feature  very helpful ',\n",
       " 'comfort for our whole family ',\n",
       " 'good product  good seller ',\n",
       " 'i love this bluetooth ',\n",
       " 'first of all  it doesn t wear well ',\n",
       " 'i am very impressed with this headset from plantronics ',\n",
       " 'i got it because it was so small and adorable ',\n",
       " 'great phone  ',\n",
       " 'i wouldn t recommend buying this product ',\n",
       " 'piece of junk ',\n",
       " 'poorly contstruct hinge ',\n",
       " 'this item is great  installed it  let it charged up overnite and it has been working good every since with no problems',\n",
       " 'great phone ',\n",
       " 'don t buy it ',\n",
       " 'excellent phone ',\n",
       " 'do not purchase this phone ',\n",
       " 'the voice recognition thru the handset is excellent ',\n",
       " 'this is hands down the best phone i ve ever had ',\n",
       " 'works great  when my cat attacked the phone he scratched the protective strip instead of destroying the screen ',\n",
       " 'this one works and was priced right ',\n",
       " 'customer service was terrible ',\n",
       " 'battery life still not long enough in motorola razor v i ',\n",
       " 'sending it back ',\n",
       " 'now i know that i made a wise decision ',\n",
       " 'someone shouldve invented this sooner ',\n",
       " 'good price ',\n",
       " 'everything worked on the first try the device was certainly engineered in a clever way and the construction feels good ',\n",
       " 'i received it quickly and it works great  ',\n",
       " 'has been working great ',\n",
       " 'as many people complained  i found this headset s microphone was very weak ',\n",
       " 'my   year old nokia      from tracfone holds the charge a lot better than this ',\n",
       " 'they do not care about the consumer one bit ',\n",
       " 'this is a good battery  and it got here really fast ',\n",
       " 'the instruction manual is lacking ',\n",
       " 'also its slim enough to fit into my alarm clock docking station without removing the case ',\n",
       " 'phone now holds charge like it did when it was new ',\n",
       " 'the battery is unreliable as well as the service use antena ',\n",
       " 'it s uncomfortable and the sound quality is quite poor compared with the phone  razr  or with my previous wired headset  that plugged into an lg  ',\n",
       " 'we have gotten a lot of compliments on it ',\n",
       " 'this is definitely a must have if your state does not allow cell phone usage while driving ',\n",
       " 'i want my money back ',\n",
       " 'i love this device ',\n",
       " 'i am also very happy with the price ',\n",
       " 'i ordered this product first and was unhappy with it immediately ',\n",
       " 'the ngage is still lacking in earbuds ',\n",
       " 'i was able to do voice dialing in the car with no problem ',\n",
       " 'i have     bars on my cell phone when i am home  but you cant not hear anything ',\n",
       " 'good item  low price ',\n",
       " 'however the riingtones are not the best  and neither are the games ',\n",
       " 'the plug did not work very well ',\n",
       " 'amazon sucks ',\n",
       " 'rip off     over charge shipping ',\n",
       " 'very comfortable ',\n",
       " 'the battery is working well as a replacement for the original that came with the phone over   years ago ',\n",
       " 'the reception is excellent ',\n",
       " 'it fits comfortably in either ear  the sound is clear and loud  and the charge lasts a couple of days ',\n",
       " 'very clear  quality sound and you don t have to mess with the sound on your ipod since you have the sound buttons on the headset ',\n",
       " '   long lasting battery  you don t have to recharge it as frequentyly as some of the flip phones   ',\n",
       " 'obviously there is a problem with the adhesive ',\n",
       " 'very disappointing ',\n",
       " 'it was an inexpensive piece  but i would still have expected better quality ',\n",
       " 'it is practically useless and did not add any kind of boost to my reception after i bought it ',\n",
       " 'excellent sound quality ',\n",
       " 'was not happy ',\n",
       " 'a piece of junk that broke after being on my phone for   days   ',\n",
       " 'new battery works great in phone ',\n",
       " 'worst customer service ',\n",
       " 'i ve dropped my phone more times than i can say  even on concrete and my phone is still great  knock on wood   ',\n",
       " 'reception is terrible and full of static ',\n",
       " 'good audio quality ',\n",
       " 'this little device has transformed my organizational capability and made my life a whole lot easier ',\n",
       " 'i was sitting in my vehicle  with the cradle on my belt  and the headset lost signal ',\n",
       " 'were jerks on the phone ',\n",
       " 'works like a charm   works as advertised ',\n",
       " 'comfortable  nice range  good battery life ',\n",
       " 'their network coverage in los angeles is horrible ',\n",
       " 'excellent starter wireless headset ',\n",
       " 'the loudspeaker option is great  the bumpers with the lights is very     appealing ',\n",
       " 'the only thing that i think could improve is the sound leaks out from the headset ',\n",
       " 'first off the reception sucks  i have never had more than   bars  ever ',\n",
       " 'the phone gets extremely hot ',\n",
       " 'the microphone also works well  but  according to people i have called  it applifies everything ',\n",
       " 'nice design and quality ',\n",
       " 'also  if your phone is dropped  this case is not going to save it  specially when dropped face down ',\n",
       " 'it is light  easy to use  and has very clear reception and transmission ',\n",
       " 'bad fit  way too big ',\n",
       " 'it definitely was not as good as my s   ',\n",
       " 'awesome device ',\n",
       " 'waste of money ',\n",
       " 'i had ordered a motorola data cable  got a very well finished and working product ',\n",
       " 'love this phone ',\n",
       " 'i was looking for this headset for a long time and now that i ve got it i couldn t be happier ',\n",
       " 'i ll be drivng along  and my headset starts ringing for no reason ',\n",
       " 'display is excellent and camera is as good as any from that year ',\n",
       " 'battery life is also great ',\n",
       " 'the worst phone i ve ever had     only had it for a few months ',\n",
       " 'not a good item   it worked for a while then started having problems in my auto reverse tape player ',\n",
       " 'this is so embarassing and also my ears hurt if i try to push the ear plug into my ear ',\n",
       " 'protects the phone on all sides ',\n",
       " 'this is a very average phone with bad battery life that operates on a weak network ',\n",
       " 'clear skype calls  long battery life  long range ',\n",
       " 'soyo technology sucks ',\n",
       " 'great hands free device ',\n",
       " 'you can even take self portraits with the outside  exterior  display  very cool ',\n",
       " 'same problem as others have mentioned ',\n",
       " 'after trying many many handsfree gadgets this is the one that finally works well ',\n",
       " 'magical help ',\n",
       " 'the worst piece of crap ever along with the verizon customer service ',\n",
       " 'poor sound quality ',\n",
       " 'the best phone in market    ',\n",
       " 'it worked very well ',\n",
       " 'the company shipped my product very promptly and it works well ',\n",
       " 'exactly what i wanted ',\n",
       " 'the picture resolution is far below what other comparably priced phones are offering today ',\n",
       " 'this is a great deal ',\n",
       " 'excellent product  i am very satisfied with the purchase ',\n",
       " 'i highly recommend these and encourage people to give them a try ',\n",
       " 'better than you d expect ',\n",
       " 'using all earpieces  left or right  this thing will not stay on my ear ',\n",
       " 'great product and price ',\n",
       " 'sounds good reasonably priced and effective  its that simple  ',\n",
       " 'still waiting       i m sure this item would work well   if i ever recieve it ',\n",
       " 'what a disappointment',\n",
       " 'very prompt service ',\n",
       " 'excellent product for the price ',\n",
       " 'very pleased with this headset ',\n",
       " 'don t waste your money and time ',\n",
       " 'i especially love the long battery life ',\n",
       " 'it s so stupid to have to keep buying new chargers  car chargers  cradles  headphones and car kits every time a new phone comes out ',\n",
       " 'works great ',\n",
       " 'plantronics bluetooth excelent buy ',\n",
       " 'i came over from verizon because cingulair has nicer cell phones     the first thing i noticed was the really bad service ',\n",
       " 'i ll be looking for a new earpiece ',\n",
       " 'i highly recommend this device to everyone ',\n",
       " 'jawbone era is awesome too ',\n",
       " 'we received a white colored battery that goes dead after a couple hoursthe original used to last a week   but still lasts longer than thereplacement',\n",
       " 'after a year the battery went completely dead on my headset ',\n",
       " 'i have used several phone in two years  but this one is the best ',\n",
       " 'an awesome new look for fall       ',\n",
       " 'this is the first phone i ve had that has been so cheaply made ',\n",
       " 'att is not clear  sound is very distorted and you have to yell when you talk ',\n",
       " 'the plastic breaks really easy on this clip ',\n",
       " 'price is good too ',\n",
       " 'don t make the same mistake i did ',\n",
       " 'oh and i forgot to also mention the weird color effect it has on your phone ',\n",
       " 'i m using it with an iriver spinn  with case  and it fits fine ',\n",
       " 'also the area where my unit broke    i m not too fond of the magnetic strap ',\n",
       " 'overall  i am psyched to have a phone which has all my appointments and contacts in and gets great reception ',\n",
       " 'every thing on phone work perfectly  she like it ',\n",
       " 'another note about this phone s appearance is that it really looks rather bland  especially in the all black model ',\n",
       " 'it s really easy ',\n",
       " 'my sanyo has survived dozens of drops on blacktop without ill effect ',\n",
       " 'fantastic earphones ',\n",
       " 'it finds my cell phone right away when i enter the car ',\n",
       " 'low quality ',\n",
       " 'i highly recommend this modest priced cellular phone ',\n",
       " 'but it does get better reception and clarity than any phone i ve had before ',\n",
       " 'warning   stay away ',\n",
       " 'i wish i could return the unit and get back my money ',\n",
       " 'awsome device works great   ',\n",
       " 'i used to talk on it for           hours and the battery would be literally drained and dying ',\n",
       " 'if you don t find it  too bad  as again the unit comes with one earpad only i would not recommend this to anyone ',\n",
       " 'very displeased ',\n",
       " 'i might have gotten a defect  but i would not risk buying it again because of the built quality alone ',\n",
       " 'they made this case too small and is very difficult to install ',\n",
       " 'restored my phone to like new performance ',\n",
       " 'i would recommend purchasing the jabra jx    series   which works flawlessly with my moto q  go figure ',\n",
       " 'i searched the internet  and found this one to be the best value ',\n",
       " 'does not fit ',\n",
       " 'very happy with this product ',\n",
       " 'the screen size is big  key pad lit well enough  and the camera quality is excellent for a camera phone ',\n",
       " 'there s really nothing bad i can say about this headset ',\n",
       " 'i m glad i found this product on amazon it is hard to find  it wasn t high priced ',\n",
       " 'portable and it works ',\n",
       " 'my colleague   i now get great reception a little expensive  but performance is great ',\n",
       " 'i even fully charged it before i went to bed and turned off blue tooth and wi fi and noticed that it only had      left in the morning ',\n",
       " 'i ve also had problems with the phone reading the memory card in which i always turn it on and then off again ',\n",
       " 'not good when wearing a hat or sunglasses ',\n",
       " 'timely shipment and quality product ',\n",
       " 'nice solid keyboard ',\n",
       " 'very well made and fits my surefire gx  perfectly ',\n",
       " 'horrible phone ',\n",
       " 'bt   battery junk  ',\n",
       " 'we would recommend these to others ',\n",
       " 'cant get the software to work with my computer ',\n",
       " 'disappointed  ',\n",
       " 'poor voice clarity ',\n",
       " 'the battery works great ',\n",
       " 'no buyers remorse on this one  ',\n",
       " 'very disappointed in accessoryone ',\n",
       " 'i find this inexcusable and so will probably be returning this phone and perhaps changing carriers ',\n",
       " 'looks great and is strong  ',\n",
       " 'i have had tmobile service for   or   years now  and i am pretty happy with it ',\n",
       " 'the update procedure is difficult and cumbersome ',\n",
       " 'disappointment   i hate anything that goes in my ear ',\n",
       " 'great software for motorolas ',\n",
       " 'the delivery was on time ',\n",
       " 'very easy to use ',\n",
       " 'uncomfortable in the ear  don t use with lg vx      env  ',\n",
       " 'the volume switch rocketed out of the unit to a destination unknown ',\n",
       " 'it holds a charge for a long time  is reasonably comfortable under long wearing conditions and the quality of sound is tremendous ',\n",
       " 'i d like to return it ',\n",
       " 'the keyboard is really worthwhile in usefulness and is sturdy enough i don t expect any problems ',\n",
       " 'verizon s bills  however  are difficult to understand even though their pricing plans are simple ',\n",
       " 'after charging overnight  these batteries work great ',\n",
       " 'you won t regret it ',\n",
       " 'i love this phone  ',\n",
       " 'a disappointment ',\n",
       " 'its not user friendly ',\n",
       " 'unfortunately the ability to actually know you are receiving a call is a rather important feature and this phone is pitiful in that respect ',\n",
       " 'then i exchanged for the same phone  even that had the same problem ',\n",
       " 'this results in the phone being either stuck at max volume or mute ',\n",
       " 'this pda rocks ',\n",
       " 'it is super charged up for use as a small hybrid palmtop camera cellphone  and excels in those roles ',\n",
       " 'i would definitely recommend the jabra bt   v for those who are looking for comfort  clarity and a great price ',\n",
       " 'i had verizon   years ago and really liked their service ',\n",
       " 'pretty piece of junk ',\n",
       " 'plug was the wrong size ',\n",
       " 'works as described ',\n",
       " 'save your money     i ve had this item for    months now ',\n",
       " 'bad purchase ',\n",
       " 'well im satisfied ',\n",
       " 'the bose noise cancelling is amazing  which is very important for a nyc commuter ',\n",
       " 'this battery is an excellent bargain ',\n",
       " 'defective crap ',\n",
       " 'i would have given no star if i was able ',\n",
       " 'i wear glasses and it fits fine with them ',\n",
       " 'the sound quality for the device is unacceptable unless you are in a really quiet area  you almost hear nothing ',\n",
       " 'i would not recommend this item to anyone ',\n",
       " 'the holster that arrived did not match the photo in the ad ',\n",
       " 'great   no problems at all  ',\n",
       " 'as an earlier review noted  plug in this charger and nothing happens ',\n",
       " 'this frog phone charm is adorable and very eye catching ',\n",
       " 'you never know if you pushed it hard enough or the right number of times for the function you want or not ',\n",
       " 'the sound is clear and the people i talk to on it are amazed at the quality too ',\n",
       " 'i got the aluminum case for my new palm vx and it worked really well  it has protected my handheld perfectly so far ',\n",
       " 'very good product  well made ',\n",
       " 'mobile phone tools are a must have ',\n",
       " 'i am very impressed with the job that motorola did on the sturdiness of this phone ',\n",
       " 'i received my orders well within the shipping timeframe  everything was in good working order and overall  i am very excited to have this source ',\n",
       " 'the phone is sturdy and waterproof ',\n",
       " 'i am not impressed with this and i would not recommend this item to anyone ',\n",
       " 'my only complaint is the standard sound volume is a little low even when turned up to   of   ',\n",
       " 'thanks again to amazon for having the things i need for a good price ',\n",
       " 'i ended up sliding it on the edge of my pants or back pockets instead ',\n",
       " 'i had to go to a store and bought a new nokia phone which is working great ',\n",
       " 'works great  ',\n",
       " 'really ugly ',\n",
       " 'horrible  had to switch   times ',\n",
       " 'the noise shield is incrediable ',\n",
       " 'no real improvement ',\n",
       " 'razr battery   good buy ',\n",
       " 'keep up the good work amazon  ',\n",
       " 'they refuse to refund or replace ',\n",
       " 'unfortunately it s easy to accidentally activate them with the gentle touch buttons if you accidentally touch the phone to your face while listening ',\n",
       " 'so i basically threw my money out the window for nothing ',\n",
       " 'great case and price ',\n",
       " 'all it took was one drop from about   inches above the kitchen counter and it was cracked i am not impressed and i am not laughing ',\n",
       " 'bluetooth range is good   a few days ago i left my phone in the trunk  got a call  and carried the conversation without a hitch ',\n",
       " 'small  sleek  impressive looking  practical setup with ample storage in place ',\n",
       " 'the eargels channel the sound directly into your ear and seem to increase the sound volume and clarity ',\n",
       " 'none of the new ones have ever quite worked properly ',\n",
       " 'i am glad i purchased it ',\n",
       " 'i ve missed numerous calls because of this reason ',\n",
       " 'perhaps my phone is defective  but people cannot hear me when i use this ',\n",
       " 'don t buy this product ',\n",
       " 'sucked  most of the stuff does not work with my phone ',\n",
       " 'no shifting  no bubbling  no peeling  not even a scratch  nothing i couldn t be more happier with my new one for the droid ',\n",
       " 'worst software ever used     if i could give this zero stars i would ',\n",
       " 'trying to make a call on these is an exercise in frustration ',\n",
       " 'the case is a flimsy piece of plastic and has no front or side protection whatsoever ',\n",
       " 'i own a jabra earset and was very happy with it  but the sound quality  especially outgoing  on this is better ',\n",
       " 'i love the camera  it s really pretty good quality ',\n",
       " 'thank you for such great service ',\n",
       " 'its a total package ',\n",
       " 'the seller is very understanding and patient  i would definitely buy from them again ',\n",
       " 'i give wirefly   star i will contact cingular at t  and inform them of this practice ',\n",
       " 'it s aggravating ',\n",
       " 'great product for the price  ',\n",
       " 'i have purchased these for both family and friends  and all enjoy their clarity and ease of use',\n",
       " 'virgin wireless rocks and so does this cheap little phone ',\n",
       " 'none of it works  just don t buy it ',\n",
       " 'muddy  low quality sound  and the casing around the wire s insert was poorly super glued and slid off ',\n",
       " 'please dont waste your money ',\n",
       " 'all in all  i m quite satisfied with this purchase ',\n",
       " 'if you are looking for a good quality motorola headset keep looking  this isn t it ',\n",
       " 'yet plantronincs continues to use the same flawed charger design ',\n",
       " 'disapointing results ',\n",
       " 'cumbersome design ',\n",
       " 'great it was new packaged nice works good  no problems and it came in less time then i expected    ',\n",
       " 'great product ',\n",
       " 'it s a piece of crap ',\n",
       " 'my experience was terrible      this was my fourth bluetooth headset  and while it was much more comfortable than my last jabra  which i hated   ',\n",
       " 'this fixes all the problems ',\n",
       " 'worst ever ',\n",
       " 'i am very happy',\n",
       " 'i ve had no trouble accessing the internet  downloading ringtones or performing any of the functions ',\n",
       " 'i can barely ever hear on it and am constantly saying  what  ',\n",
       " 'the battery life is highly unacceptable ',\n",
       " 'that company is a joke ',\n",
       " 'it does everything the description said it would ',\n",
       " 'due to this happening on every call i was forced to stop using this headset ',\n",
       " 'it works great with a car charger  especially if you cannot plug in two adapters at the same time ',\n",
       " 'verizon tech support walked my through a few procedures  none of which worked and i ended up having to do a hard re set  wiping out all my data ',\n",
       " 'voice quality  signal strength  dropped calls ',\n",
       " 'it plays louder than any other speaker of this size  the price is so low that most would think the quality is lacking  however  it s not ',\n",
       " 'better than expected ',\n",
       " 'it feels poorly constructed  the menus are difficult to navigate  and the buttons are so recessed that it is difficult to push them ',\n",
       " 'battery is holding up well ',\n",
       " 'also difficult to put on i d recommend avoiding this product ',\n",
       " 'i only used it two days  and it wasn t always easy to hear with ',\n",
       " 'i got the car charger and not even after a week the charger was broken   i went to plug it in and it started smoking ',\n",
       " 'sprint   terrible customer service ',\n",
       " 'linked to my phone without effort ',\n",
       " 'they are so cool ',\n",
       " 'easy to use ',\n",
       " 'better than new ',\n",
       " 'what possesed me to get this junk  i have no idea   ',\n",
       " 'piece of trash ',\n",
       " 'a pretty good product ',\n",
       " 'this is a great phone  ',\n",
       " 'for the price on amazon  it is an excellent product  which i would highly recommend ',\n",
       " 'their research and development division obviously knows what they re doing ',\n",
       " 'the real killer is the volume  and of course it breaking ',\n",
       " 'those phones are working just fine now ',\n",
       " 'i am more than happy with this product ',\n",
       " 'poor construction ',\n",
       " 'this is infuriating ',\n",
       " 'overall  i would recommend this phone over the new walkman ',\n",
       " 'sprint charges for this service ',\n",
       " 'it is cheap  and it feel and look just as cheap ',\n",
       " 'it fits my ear well and is comfortable on ',\n",
       " 'it doesn t work in europe or asia ',\n",
       " 'clipping this to your belt will deffinitely make you feel like    cent s up and coming ',\n",
       " 'i like design and look of jabra behing the ear headsets and      is pretty comfortible to wear    hours a day without pain in the ear ',\n",
       " 'i was amazed at the quick arrival of the two original lg cell phone batteries and and at a fraction of the price ',\n",
       " 'the worst phone from samsung   crap      this crappy samsung e      is the worst i have ever seeen ',\n",
       " 'the charger worked for about a week and then completely stopped charging my phone ',\n",
       " 'poor product ',\n",
       " 'however i needed some better instructions ',\n",
       " 'you need two hands to operate the screen this software interface is decade old and cannot compete with new software designs ',\n",
       " 'worked very well paired with a treo    w and as a skype headset on my pc  using a usb bluetooth transceiver  ',\n",
       " 'steer clear of this product and go with the genuine palm replacementr pens  which come in a three pack ',\n",
       " 'do not buy do not buyit sucks',\n",
       " 'this is a great product      sure beats using your fingers  ',\n",
       " 'plus  i seriously do not believe it is worth its steep price point ',\n",
       " 'all the other cases i ve tried normally fall apart after a few months but this one seems to be in for the long haul ',\n",
       " 'very dissapointing performance ',\n",
       " 'don t make the same mistake that i did and please don t buy this phone ',\n",
       " 'this phone might well be the worst i ve ever had in any brand ',\n",
       " 'case was more or less an extra that i originally put on but later discarded because it scratched my ear ',\n",
       " 'i recommend igo to anyone with different brand cell phones mp  players in the family ',\n",
       " 'don t bother   go to the store ',\n",
       " 'i posted more detailed comments under the grey or black phone  but i have the fire red and it s a great color ',\n",
       " 'i did not have any problem with this item and would order it again if needed ',\n",
       " 'you get what you pay for i guess ',\n",
       " 'not only did the software do a great job of this  i could also make my own ringtones form my existing cds without an internet connection ',\n",
       " 'im surprised this is a good quality car charger and there s not much reviews about it ',\n",
       " 'these are fabulous ',\n",
       " 'however  bt headsets are currently not good for real time games like first person shooters since the audio delay messes me up ',\n",
       " 'i used bitpim  a free program you can find on the internet to transfer data to the phone the price of the cable was excellent ',\n",
       " 'disappointing accessory from a good manufacturer ',\n",
       " 'performed awful    muffled  tinny incoming sound and severe echo for those on the other end of the call ',\n",
       " 'very wind resistant ',\n",
       " 'obviously they have a terrible customer service  so you get what you pay for ',\n",
       " 'they do not last forever  but is not overly expensive to replace easy to operate and the sound is much better than others i have tried ',\n",
       " 'i contacted the company and they told me that  although the unit was still under warranty  if i couldn t produce my receipt i was out of luck ',\n",
       " 'linksys should have some way to exchange a bad phone for a refurb unit or something ',\n",
       " 'phone is sturdy as all nokia bar phones are ',\n",
       " 'great phone ',\n",
       " 'when i placed my treo into the case  not only was it not snug  but there was a lot of extra room on the sides ',\n",
       " 'i m pleased ',\n",
       " 'battery is terrible ',\n",
       " 'i found the product to be easy to set up and use ',\n",
       " 'the earpiece on this is too large or too heavy   it keeps falling out of my ear ',\n",
       " 'utter crap   sound quality is terrible ',\n",
       " 'the charger arrived within the promised timeframe  but it did not work ',\n",
       " 'no ear loop needed  it s tiny and the sound is great ',\n",
       " 'finally  after three or four times the spring of the latch broke and i could not use it any longer on the visor ',\n",
       " 'the handsfree part works fine  but then the car tries to download the address book  and the treo reboots overall  i still rate this device high ',\n",
       " 'talk about useless customer service ',\n",
       " 'it felt too light and  tinny   ',\n",
       " 'this does not fit the palm tungsten e  and it broke the first time i tried to plug it in ',\n",
       " 'i m happy about this purchase  good quality and low price ',\n",
       " 'i love the look and feel of samsung flipphones ',\n",
       " 'its well designed and very sharp    the blue is a very nice color ',\n",
       " 'does everything it should and more ',\n",
       " 'i could not recommend these more ',\n",
       " 'nice sound ',\n",
       " 'looks good in the picture  but this case was a huge disappointment  ',\n",
       " 'much less than the jawbone i was going to replace it with ',\n",
       " 'setup went very smoothly ',\n",
       " 'its extremely slow and takes forever to do anything with it ',\n",
       " 'a must study for anyone interested in the  worst sins  of industrial design ',\n",
       " 'the first thing that happened was that the tracking was off ',\n",
       " 'it is well made  easy to access the phone and has a handy  detachable belt clip ',\n",
       " 'then i had to continue pairing it periodically since it somehow kept dropping ',\n",
       " 'can t upload ringtones from a third party ',\n",
       " 'bluetooth does not work  phone locks up  screens just flash up and now it just makes calls randomly while in my pocket locked ',\n",
       " 'truly awful ',\n",
       " 'it works fine on my motorola     cellphone  and a lot better than the worn out battery did ',\n",
       " 'the volume for the ringer is real good  you have choices how loud  ',\n",
       " 'and none of the tones is acceptable ',\n",
       " 'camera color balance is awful ',\n",
       " 'this product is clearly not ready for prime time  i don t care how cool it looks  if you can t tell a call is coming in it s worthless ',\n",
       " 'i love the ringtones because they are so upbeat ',\n",
       " 'chinese forgeries abound  ',\n",
       " 'easy to pair with my samsung cell ',\n",
       " 'the instructions didn t explain that a microphone jack could be used ',\n",
       " 'i would advise to not purchase this item it never worked very well ',\n",
       " 'too bad you have to pay up to     a month for the service ',\n",
       " 'works well ',\n",
       " 'the nokia ca    usb cable did not work with my phone ',\n",
       " 'clear crisp sound ',\n",
       " 'i have to use the smallest earpieces provided  but it stays on pretty well ',\n",
       " 'the biggest complaint i have is  the battery drains superfast ',\n",
       " 'the design might be ergonomic in theory but i could not stand having these in my ear ',\n",
       " 'do not buy if you want to use the holster ',\n",
       " 'the phone can also take great pictures and even video clips ',\n",
       " 'it doesn t make you look cool ',\n",
       " 'because both ears are occupied  background is not distracting at all ',\n",
       " 'comfortable fit   you need your headset to be comfortable for at least an hour at a time  if not for an entire day ',\n",
       " 'also  the phone doesn t seem to accept anything except cbr mp s  preferably ripped by windows media player ',\n",
       " 'you can t beat the price on these ',\n",
       " '  comes with a strong light that you can use to light up your camera shots  and even flash sos signals  seriously ',\n",
       " 'lightweight and works well ',\n",
       " 'so just beware ',\n",
       " 'i love this cable   it allows me to connect any mini usb device to my pc ',\n",
       " 'so anyone near you will hear part of your conversation ',\n",
       " 'this is cool because most cases are just open there allowing the screen to get all scratched up ',\n",
       " 'i bought this phone as a replacement for my startac and have regretted it since ',\n",
       " 'appears to actually outperform the original battery from china that came with my v   i ',\n",
       " 'can t store anything but phone numbers to sim ',\n",
       " 'it lasts less than  o minutes  if i actually try to use the phone my wife has the same phone with the same problem ',\n",
       " 'poor quality ',\n",
       " 'jabra ear gels  r  the best  ',\n",
       " 'not worth it ',\n",
       " 'the phone crashed completely and now i have to get it replaced ',\n",
       " 'it quit working after i d used it for about    months  so i just purchased another one because this is the best headset i ve ever owned ',\n",
       " 'unfortunately it will not recharge my iphone  s  despite connecting it from multiple power sources  imac  external battery  wall outlet  etc  ',\n",
       " 'it was a great phone ',\n",
       " 'if you simply want a small flip phone    look elsewhere as the extra bells   whistles are mediocre ',\n",
       " 'good value  works fine   power via usb  car  or wall outlet ',\n",
       " 'my phone doesn t slide around my car now and the grip prevents my phone from slipping out of my hand ',\n",
       " 'this is simply the best bluetooth headset for sound quality ',\n",
       " 'think it over when you plan to own this one this sure is the last moto phone for me ',\n",
       " 'in the span of an hour  i had two people exclaim  whoa   is that the new phone on tv   ',\n",
       " 'i have always used corded headsets and the freedom from the wireless is very helpful ',\n",
       " 'this case has passed the one year mark and while it shows signs of wear  it is      functional ',\n",
       " 'other than that  the leather is nice and soft  the fit is very tight  the cut out for the face is a good shape ',\n",
       " 'it has everything i need and i couldn t ask for more ',\n",
       " 'after receiving and using the product for just   days it broke ',\n",
       " 'this product is great    it makes working a lot easier i can go to the copier while waiting on hold for something ',\n",
       " 'none of the three sizes they sent with the headset would stay in my ears ',\n",
       " 't mobile has the best customer service anywhere ',\n",
       " 'arrived quickly and much less expensive than others being sold ',\n",
       " 'we have tried   units and they both failed within   months   pros',\n",
       " 'provides good protection and looks classy  too ',\n",
       " 'krussel always good ',\n",
       " 'the tracfonewebsite is user friendly and makes it easy toactivate  etc ',\n",
       " 'the design is very good   ',\n",
       " 'i great reception all the time ',\n",
       " 'i would highly recommend this product ',\n",
       " 'couldn t use the unit with sunglasses  not good in texas ',\n",
       " 'it dit not work most of the time with my nokia      ',\n",
       " 'bought mainly for the charger  which broke soon after purchasing ',\n",
       " 'if you like a loud buzzing to override all your conversations  then this phone is for you ',\n",
       " 'fantastic buy and will get again for whatever my next phone is',\n",
       " 'stay away from this store  be careful ',\n",
       " 'this blueant supertooth hands free phone speaker is awesome ',\n",
       " 'does not fit ',\n",
       " '     item arrived quickly and works great with my metro pcs samsung sch r    slider phone and sony premium sound in ear plugs ',\n",
       " 'it is light  has plenty of battery capacity  and is very confortable to wear for somewhat extended periods of time ',\n",
       " 'disappointing ',\n",
       " 'blue ant is easy to use ',\n",
       " 'cheap but hey it works   was pleasantly suprised given the low cost of this item ',\n",
       " 'the camera on the phone may be used as a dustpan when indoors    i d rather be using a disposable then this ',\n",
       " 'then a few days later the a puff of smoke came out of the phone while in use ',\n",
       " 'it s very convenient and simple to use   gets job done   makes the car ride so much smoother ',\n",
       " 'the nano stated it my son was dissapointed ',\n",
       " 'the sound quality is excellent as well ',\n",
       " 'its the best headset i have used ',\n",
       " 'would not reccommend ',\n",
       " 'they have been around for years and carries the highest quality of anti glare screen protector that i have found to date ',\n",
       " 'just what i wanted ',\n",
       " 'this particular model would not work with my motorola q smartphone ',\n",
       " 'wont work right or atleast for me ',\n",
       " 'in addition it feels  amp  looks as if the phone is all lightweight cheap plastic ',\n",
       " 'but now that it is  out of warranty  the same problems reoccure bottom line    put your money somewhere else    cingular will not support it ',\n",
       " 'i really wanted the plantronics     to be the right one  but it has too many issues for me the good',\n",
       " 'great product ',\n",
       " 'crisp and clear ',\n",
       " 'after the first charge kept going dead after    minutes ',\n",
       " 'very cheap plastic  creaks like an old wooden floor ',\n",
       " 'i get absolutely horrible reception in my apartment  where with other phones i have not had this problem ',\n",
       " 'the reception has been generally good ',\n",
       " 'excellent sound  battery life and inconspicuous to boot  ',\n",
       " 'great bluetooth  ',\n",
       " 'i highly recommend this case ',\n",
       " 'worthwhile ',\n",
       " 'this is a great deal ',\n",
       " 'after my phone got to be about a year old  it s been slowly breaking despite much care on my part ',\n",
       " 'i am sorry i made this purchase ',\n",
       " 'i bought these hoping i could make my bluetooth headset fit better but these things made it impossible to wear ',\n",
       " 'treo and t mobile refused to replace it again and forced me to buy another phone without any kind of upgrade discount ',\n",
       " 'it was horrible  ',\n",
       " 'i don t think it would hold it too securly on your belt ',\n",
       " 'this allows the possibility of double booking for the same date and time after the first ',\n",
       " 'they work about   weeks then break ',\n",
       " 'it is simple to use and i like it ',\n",
       " 'it s a great tool for entertainment  communication  and data management oh  be sure to use activesync     for optimal data synchronization results ',\n",
       " 'i can t use this case because the smell is disgusting ',\n",
       " 'not what i wanted ',\n",
       " 'i own   of these cases and would order another ',\n",
       " 'great phone ',\n",
       " 'i bought this battery with a coupon from amazon and i m very happy with my purchase ',\n",
       " 'the internet access was fine  it the rare instance that it worked ',\n",
       " 'perfect for the ps  ',\n",
       " 'five star plus  plus ',\n",
       " 'a good quality bargain   i bought this after i bought a cheapy from big lots that sounded awful and people on the other end couldn t hear me ',\n",
       " '    down the drain ',\n",
       " 'i tried talking real loud but shouting on the telephone gets old and i was still told it wasn t great ',\n",
       " 'good   works fine ',\n",
       " 'for the price this was a great deal ',\n",
       " 'great price  too ',\n",
       " 'if there is a wind  it is completely useless ',\n",
       " 'yes it s shiny on front side   and i love it ',\n",
       " 'does not work ',\n",
       " 'at first i thought i was grtting a good deal at        until i plugged it into my phone  v c razr  ',\n",
       " 'the reception through this headset is excellent ',\n",
       " '  thumbs up to this seller',\n",
       " 'i have a verizon lg phone and they work well together  good reception and range that exceeds    feet line of sight ',\n",
       " 'improper description     i had to return it ',\n",
       " '   it works      it is comfortable ',\n",
       " 'battery charge life is quite long ',\n",
       " 'the jabra eargels fit my ears very well ',\n",
       " 'battery has no life ',\n",
       " 'i checked everywhere and there is no feature for it which is really disappointing ',\n",
       " 'product is exactly as described ',\n",
       " 'gets a signal when other verizon phones won t ',\n",
       " 'doesn t do the job ',\n",
       " 'i would recommend it ',\n",
       " 'plan on ordering from them again and again ',\n",
       " 'that being said  for a phone  the camera is very nice  many cool effects to play with  and video is decent as well ',\n",
       " 'i have been very satisfied with this cell phone from day one ',\n",
       " 'they keep getting better and better  this is my third one and i ve had numerous palms too  ',\n",
       " 'awkward to use and unreliable ',\n",
       " 'the shipping time was also very quick ',\n",
       " 'not as good as i had hoped ',\n",
       " 'good case  ',\n",
       " 'doesn t work ',\n",
       " 'really good product ',\n",
       " 'unfortunately it did not work ',\n",
       " 'all three broke within two months of use ',\n",
       " 'dont buy it ',\n",
       " 'my father has the v     and the battery is dying ',\n",
       " 'however  the ear pads come off easily and after only one week i lost one ',\n",
       " 'the calls drop  the phone comes on and off at will  the screen goes black and the worst of all it stops ringing intermittently ',\n",
       " 'horrible  horrible protector ',\n",
       " 'i don t like this nokia either ',\n",
       " 'reaching for the bottom row is uncomfortable  and the send and end keys are not where i expect them to be   ',\n",
       " 'i have bought this nokia cell phone a few weeks ago and it was a nightmare ',\n",
       " 'it would take too long to describe how bad my customer service experience has been with amazon ',\n",
       " 'the only very disappointing thing was there was no speakerphone    ',\n",
       " 'terrible   my car will not accept this cassette ',\n",
       " 'product is useless  since it does not have enough charging current to charge the   cellphones i was planning to use it with ',\n",
       " 'it s not what it says it is ',\n",
       " 'stay away from the q  ',\n",
       " 'used and dirty ',\n",
       " 'very unreliable service from t mobile  ',\n",
       " 'not good enough for the price ',\n",
       " 'i bought two of them and neither will charge ',\n",
       " 'it looks very nice ',\n",
       " 'this is an excellent tool  especially when paired with your phone s auto answer ',\n",
       " 'i have read other s reviews here but i haven t had any problem with it ',\n",
       " 'these products cover up the important light sensor above the ear outlet ',\n",
       " 'comfortable in my hand ',\n",
       " 'just does not work ',\n",
       " 'poor reliability ',\n",
       " ' it works  ',\n",
       " 'if i take a picture  the battery drops a bar  and starts beeping  letting me know its dieing ',\n",
       " 'terrible product  and waste of money ',\n",
       " 'last time buying from you ',\n",
       " 'it was a waste of my money ',\n",
       " 'so far it has worked like a charm ',\n",
       " 'i have only had it for a few weeks  but so far  so good ',\n",
       " 'but  in any case  the best part is  you can download these pictures to your laptop using ir  or even send pictures from your laptop to the phone ',\n",
       " 'would recommend this item ',\n",
       " 'it s been my choice headset for years great sound  good volume  good noise cancellation ',\n",
       " 'nice case  feels good in your hands ',\n",
       " 'the item received was counterfeit ',\n",
       " 'just really good   so far  probably the best bt headset i have ever had ',\n",
       " 'works fine ',\n",
       " 'i received my headset in good time and was happy with it ',\n",
       " 'i was very pleased to see that i could replace my well travled swivel holster for my blackberry flip ',\n",
       " 'my sister has one also and she loves it ',\n",
       " 'good quality ',\n",
       " 'this is by far the worst purchase i ve made on amazon ',\n",
       " 'excellent dual purpose headset ',\n",
       " 'excellent  ',\n",
       " 'does not work for listening to music with the cingular      ',\n",
       " 'it seems completely secure  both holding on to my belt  and keeping the iphone inside ',\n",
       " 'the bottowm line   another worthless  cheap gimmick from sprint ',\n",
       " 'having trouble with volume ',\n",
       " 'the only good thing was that it fits comfortably on small ears ',\n",
       " 'warning   do not buy   ',\n",
       " 'i am pairing this with my iphone  and i could not be happier with it so far ',\n",
       " 'when it opens  the battery connection is broken and the device is turned off ',\n",
       " 'i didn t want the clip going over the top of my ear  causing discomfort ',\n",
       " 'best headset ever    ',\n",
       " 'don t trust their website and don t expect any helpful support ',\n",
       " 'it was that loud glad to say that the plantronics     maintains a flawless connection to my cell and with no static during normal use ',\n",
       " 'the speaker is of low quality so as making the ring tones sound very cheap ',\n",
       " 'fits comfortably  came with three sizes of earbud tips ',\n",
       " 'excellent product for the price ',\n",
       " 'bad reception ',\n",
       " 'this product is very high quality chinese crap      ',\n",
       " 'it was quite comfortable in the ear ',\n",
       " 'great phone ',\n",
       " 'don t buy this product   it fails  ',\n",
       " 'everything about this product is wrong first',\n",
       " 'the pairing of the two devices was so easy it barely took a couple minutes before i started making calls with the voice dialing feature ',\n",
       " 'this was utterly confusing at first  which caused me to lose a couple of very  very important contacts ',\n",
       " 'terrible phone holder ',\n",
       " 'the cutouts and buttons are placed perfectly ',\n",
       " 'i love being able to use one headset for both by land line and cell ',\n",
       " 'problem is that the ear loops are made of weak material and break easily ',\n",
       " 'not nearly as good looking as the amazon picture makes it look ',\n",
       " 'but despite these few flaws  this case is of exceptional quality and well worth the additional costs of owning an official oem product ',\n",
       " 'how stupid is that ',\n",
       " 'i can hear while i m driving in the car  and usually don t even have to put it on it s loudest setting ',\n",
       " 'seller shipped quickly and much cheaper than the competitors ',\n",
       " 'good show  samsung ',\n",
       " 'so i bought about    of these and saved alot of money ',\n",
       " 'it always cuts out and makes a beep beep beep sound then says signal failed ',\n",
       " 'couldn t figure it out',\n",
       " 'my phone sounded ok   not great   ok   but my wife s phone was almost totally unintelligible  she couldn t understand a word being said on it ',\n",
       " 'so i had to take the battery out of the phone put it all back together and then restart it ',\n",
       " 'while i managed to bend the leaf spring back in place  the metal now has enough stress that it will break on the next drop ',\n",
       " 'leopard print is wonderfully wild  ',\n",
       " 'works for me ',\n",
       " 'saggy  floppy piece of junk ',\n",
       " 'much better than the hard plastic cases ',\n",
       " 'it also had a new problem ',\n",
       " 'happy so far  ',\n",
       " 'cool phone ',\n",
       " 'works good ',\n",
       " 'motorola finally got the voice quality of a bluetooth headset right ',\n",
       " 'it looses connection to the phone even when it is within a couple feet between the two ',\n",
       " 'but it is great  i would really recommend it',\n",
       " 'makes it easier to keep up with my bluetooth when i m not wearing it ',\n",
       " 'as i said above    pretty useless ',\n",
       " 'never got it     ',\n",
       " 'this pair of headphones is the worst that i have ever had sound wise ',\n",
       " '      down the drain because of a weak snap ',\n",
       " 'does not charge the cingular  att       phone ',\n",
       " 'you get extra minutes so that you can carry out the call and not get cut off  ',\n",
       " 'however  after about a year  the fliptop started to get loose and wobbly and eventually my screen went black and i couldn t receive and place calls ',\n",
       " 'i kept catching the cable on the seat and i had to pull the phone out to turn it on an off ',\n",
       " 'the headset fulfills my requirements so i am happy with my purchase ',\n",
       " 'logitech bluetooth headset is a     ',\n",
       " 'i like the fact that it rests lightly against your ear  rather than inside ',\n",
       " 'a lot of websites have been rating this a very good phone and so do i ',\n",
       " 'i have tried these cables with my computer and my ipod and it works just fine ',\n",
       " 'the mic there is a joke  and the volume is quite low ',\n",
       " 'i m returning them ',\n",
       " 'i does not maintain a connection with the computer while it is on my lap ',\n",
       " 'it is easy to turn on and off when you are in the car and the volume controls are quite accessable ',\n",
       " 'i have had mine for about a year and this christmas i bought some for the rest of the family ',\n",
       " 'otherwise  easy to install and use  clear sound ',\n",
       " 'nice leather ',\n",
       " 'i had to purchase a different case ',\n",
       " 'it is a joy to use ',\n",
       " 'very much disappointed with this company ',\n",
       " 'very satisifed with that ',\n",
       " 'it didn t charge for me ',\n",
       " 'this is the phone to get for          i just bought my s   a and all i can say is wow ',\n",
       " 'buttons are too small ',\n",
       " 'just reading on the specs alone makes you say wow ',\n",
       " 'love it   great armband ',\n",
       " 'i really like this product over the motorola because it is allot clearer on the ear piece and the mic ',\n",
       " 'however  the keypads are so tinny that i sometimes reach the wrong buttons ',\n",
       " 'i exchanged the sony ericson z   a for this and i m pretty happy with that decision ',\n",
       " 'i was very impressed with the price of the cases ',\n",
       " 'also makes it easier to hold on to ',\n",
       " 'i use this product in a motor control center where there is a lot of high voltage humming from the equipment  and it works great ',\n",
       " 'it s pretty easy ',\n",
       " 'i cannot make calls at certain places ',\n",
       " 'however  my girl was complain that some time the phone doesn t wake up like normal phone does ',\n",
       " 'beautiful styling though ',\n",
       " 'this company charge me a restocking fee and still not given me my refund back ',\n",
       " 'i m trying to return it for a refund ',\n",
       " 'i plugged it in only to find out not a darn thing worked ',\n",
       " 'excellent product ',\n",
       " 'earbud piece breaks easily ',\n",
       " 'lousy product ',\n",
       " 'this phone tries very hard to do everything but fails at it s very ability to be a phone ',\n",
       " 'it is the best charger i have seen on the market yet ',\n",
       " 'sweetest phone   ',\n",
       " '   oh  the charger seems to work fine ',\n",
       " 'it fits so securely that the ear hook does not even need to be used and the sound is better directed through your ear canal ',\n",
       " 'not enough volume ',\n",
       " 'echo problem    very unsatisfactory',\n",
       " 'you could only take   videos at a time and the quality was very poor ',\n",
       " 'don t waste your money ',\n",
       " 'i am going to have to be the first to negatively review this product ',\n",
       " 'adapter does not provide enough charging current ',\n",
       " 'there was so much hype over this phone that i assumed it was the best  my mistake ',\n",
       " 'you also cannot take pictures with it in the case because the lense is covered ',\n",
       " 'phone falls out easily ',\n",
       " 'it didn t work  people can not hear me when i talk ',\n",
       " 'the text messaging feature is really tricky to use ',\n",
       " 'i m really disappointed all i have now is a charger that doesn t work ',\n",
       " 'painful on the ear ',\n",
       " 'lasted one day and then blew up ',\n",
       " 'disappointed ',\n",
       " 'kind of flops around ',\n",
       " 'the screen does get smudged easily because it touches your ear and face ',\n",
       " 'what a piece of junk   i lose more calls on this phone ',\n",
       " 'item does not match picture ',\n",
       " 'the only thing that disappoint me is the infra red port  irda  ',\n",
       " 'you can not answer calls with the unit  never worked once ',\n",
       " ...]"
      ]
     },
     "execution_count": 76,
     "metadata": {},
     "output_type": "execute_result"
    }
   ],
   "source": [
    "## full_remove takes a string x and a list of characters removal_list \n",
    "## returns x with all the characters in removal_list replaced by ' '\n",
    "def full_remove(x, removal_list):\n",
    "    for w in removal_list:\n",
    "        x = x.replace(w, ' ')\n",
    "    return x\n",
    "\n",
    "## Remove digits\n",
    "digits = [str(x) for x in range(10)] #transfer digits to text\n",
    "digit_less = [full_remove(x, digits) for x in sentences] # x is a sentence not a word\n",
    "\n",
    "## Remove punctuation\n",
    "punc_less = [full_remove(x, list(string.punctuation)) for x in digit_less]\n",
    "\n",
    "## Make everything lower-case\n",
    "sents_lower = [x.lower() for x in punc_less]\n",
    "sents_lower"
   ]
  },
  {
   "cell_type": "markdown",
   "metadata": {},
   "source": [
    "### Stop words\n",
    "\n",
    "Stop words are words that are filtered out because they are believed to contain no useful information for the task at hand. These usually include articles such as 'a' and 'the', pronouns such as 'i' and 'they', and prepositions such 'to' and 'from'. We have put together a very small list of stop words, but these are by no means comprehensive. Feel free to use something different; for instance, larger lists can easily be found on the web."
   ]
  },
  {
   "cell_type": "code",
   "execution_count": 77,
   "metadata": {},
   "outputs": [
    {
     "data": {
      "text/plain": [
       "['so there is no way for me plug in here in us unless go by converter',\n",
       " 'good case excellent value',\n",
       " 'great for jawbone',\n",
       " 'tied charger for conversations lasting more than minutes major problems',\n",
       " 'mic is great',\n",
       " 'have jiggle plug get line up right get decent volume',\n",
       " 'if you have several dozen or several hundred contacts then imagine fun sending each them one by one',\n",
       " 'if you are razr owner you must have this',\n",
       " 'needless say wasted my money',\n",
       " 'what waste money and time']"
      ]
     },
     "execution_count": 77,
     "metadata": {},
     "output_type": "execute_result"
    }
   ],
   "source": [
    "## Define our stop words\n",
    "stop_set = set(['the', 'a', 'an', 'i', 'he', 'she', 'they', 'to', 'of', 'it', 'from'])\n",
    "\n",
    "## Remove stop words\n",
    "sents_split = [x.split() for x in sents_lower]\n",
    "sents_processed = [\" \".join(list(filter(lambda a: a not in stop_set, x))) for x in sents_split]\n",
    "# why do we need to split the sents_lower\n",
    "#.join is to coonect the items in list with \"\"\n",
    "#filter(a,b),b is the list to be filter, a is the criteria\n",
    "sents_split[2]\n",
    "sents_processed [0:10]"
   ]
  },
  {
   "cell_type": "code",
   "execution_count": 78,
   "metadata": {},
   "outputs": [
    {
     "data": {
      "text/plain": [
       "'for'"
      ]
     },
     "execution_count": 78,
     "metadata": {},
     "output_type": "execute_result"
    }
   ],
   "source": [
    "sents_split[2][1]"
   ]
  },
  {
   "cell_type": "code",
   "execution_count": 79,
   "metadata": {},
   "outputs": [],
   "source": [
    "##### sents_lower[2]\n",
    "# the difference between split and not split is that when doing \"not in list\"function, for the splited one the object is a word\n",
    "# but for unsplited one is for the enteir string\n",
    "#所以会strip掉单个字母而不是整个单词\n",
    "#总而言之就是split后 每个list里的item不一样 对unsplit的是每个字母，对split的是每个单词"
   ]
  },
  {
   "cell_type": "code",
   "execution_count": 80,
   "metadata": {},
   "outputs": [
    {
     "data": {
      "text/plain": [
       "'r'"
      ]
     },
     "execution_count": 80,
     "metadata": {},
     "output_type": "execute_result"
    }
   ],
   "source": [
    "sents_lower[2][1]"
   ]
  },
  {
   "cell_type": "code",
   "execution_count": 81,
   "metadata": {},
   "outputs": [
    {
     "name": "stdout",
     "output_type": "stream",
     "text": [
      "['so', 'there', 'is', 'no', 'way', 'for', 'me', 'to', 'plug', 'it', 'in', 'here', 'in', 'the', 'us', 'unless', 'i', 'go', 'by', 'a', 'converter']\n",
      "['good', 'case', 'excellent', 'value']\n",
      "['great', 'for', 'the', 'jawbone']\n",
      "['tied', 'to', 'charger', 'for', 'conversations', 'lasting', 'more', 'than', 'minutes', 'major', 'problems']\n",
      "['the', 'mic', 'is', 'great']\n",
      "['i', 'have', 'to', 'jiggle', 'the', 'plug', 'to', 'get', 'it', 'to', 'line', 'up', 'right', 'to', 'get', 'decent', 'volume']\n",
      "['if', 'you', 'have', 'several', 'dozen', 'or', 'several', 'hundred', 'contacts', 'then', 'imagine', 'the', 'fun', 'of', 'sending', 'each', 'of', 'them', 'one', 'by', 'one']\n",
      "['if', 'you', 'are', 'razr', 'owner', 'you', 'must', 'have', 'this']\n",
      "['needless', 'to', 'say', 'i', 'wasted', 'my', 'money']\n",
      "['what', 'a', 'waste', 'of', 'money', 'and', 'time']\n"
     ]
    },
    {
     "data": {
      "text/plain": [
       "10"
      ]
     },
     "execution_count": 81,
     "metadata": {},
     "output_type": "execute_result"
    }
   ],
   "source": [
    "i = 0\n",
    "for x in sents_split [0:10]:\n",
    "    i = i+1\n",
    "    print x\n",
    "i"
   ]
  },
  {
   "cell_type": "markdown",
   "metadata": {},
   "source": [
    "What do the sentences look like so far?"
   ]
  },
  {
   "cell_type": "code",
   "execution_count": 82,
   "metadata": {},
   "outputs": [
    {
     "data": {
      "text/plain": [
       "['so there is no way for me plug in here in us unless go by converter',\n",
       " 'good case excellent value',\n",
       " 'great for jawbone',\n",
       " 'tied charger for conversations lasting more than minutes major problems',\n",
       " 'mic is great',\n",
       " 'have jiggle plug get line up right get decent volume',\n",
       " 'if you have several dozen or several hundred contacts then imagine fun sending each them one by one',\n",
       " 'if you are razr owner you must have this',\n",
       " 'needless say wasted my money',\n",
       " 'what waste money and time']"
      ]
     },
     "execution_count": 82,
     "metadata": {},
     "output_type": "execute_result"
    }
   ],
   "source": [
    "sents_processed[0:10]"
   ]
  },
  {
   "cell_type": "code",
   "execution_count": 83,
   "metadata": {},
   "outputs": [
    {
     "data": {
      "text/plain": [
       "3000"
      ]
     },
     "execution_count": 83,
     "metadata": {},
     "output_type": "execute_result"
    }
   ],
   "source": [
    "len(sents_processed)"
   ]
  },
  {
   "cell_type": "markdown",
   "metadata": {},
   "source": [
    "### Bag of words\n",
    "\n",
    "In order to use linear classifiers on our data set, we need to transform our textual data into numeric data. The classical way to do this is known as the _bag of words_ representation. \n",
    "\n",
    "In this representation, each word is thought of as corresponding to a number in `{1, 2, ..., V}` where `V` is the size of our vocabulary. And each sentence is represented as a V-dimensional vector $x$, where $x_i$ is the number of times that word $i$ occurs in the sentence.\n",
    "\n",
    "To do this transformation, we will make use of the `CountVectorizer` class in `scikit-learn`. We will cap the number of features at 4500, meaning a word will make it into our vocabulary only if it is one of the 4500 most common words in the corpus. This is often a useful step as it can weed out spelling mistakes and words which occur too infrequently to be useful.\n",
    "\n",
    "Finally, we will also append a '1' to the end of each vector to allow our linear classifier to learn a bias term."
   ]
  },
  {
   "cell_type": "code",
   "execution_count": 84,
   "metadata": {},
   "outputs": [
    {
     "data": {
      "text/plain": [
       "(3000L, 4501L)"
      ]
     },
     "execution_count": 84,
     "metadata": {},
     "output_type": "execute_result"
    }
   ],
   "source": [
    "from sklearn.feature_extraction.text import CountVectorizer\n",
    "\n",
    "## Transform to bag of words representation.\n",
    "vectorizer = CountVectorizer(analyzer = \"word\", tokenizer = None, preprocessor = None, stop_words = None, max_features = 4500)\n",
    "data_features = vectorizer.fit_transform(sents_processed) #.fit_transform can calculate the frequency of the words in the word bag\n",
    "\n",
    "## Append '1' to the end of each vector.\n",
    "data_mat = data_features.toarray()\n",
    "\n",
    "p_mat = data_features.toarray() # save data_mat in p_mat\n",
    "data_mat = np.ones((p_mat.shape[0], p_mat.shape[1]+1))\n",
    "data_mat[:,:-1] = p_mat #except for the last column, all columns equal p_mat\n",
    "# p_mat here serves as a transit station\n",
    "data_mat.shape\n",
    "# 3000 sentences, and 4500 means we are searching the frequency of these 4500 words in "
   ]
  },
  {
   "cell_type": "code",
   "execution_count": 85,
   "metadata": {},
   "outputs": [
    {
     "data": {
      "text/plain": [
       "array([[0, 0, 0, ..., 0, 0, 0],\n",
       "       [0, 0, 0, ..., 0, 0, 0],\n",
       "       [0, 0, 0, ..., 0, 0, 0],\n",
       "       ...,\n",
       "       [0, 0, 0, ..., 0, 0, 0],\n",
       "       [0, 0, 0, ..., 0, 0, 0],\n",
       "       [0, 0, 0, ..., 0, 0, 0]], dtype=int64)"
      ]
     },
     "execution_count": 85,
     "metadata": {},
     "output_type": "execute_result"
    }
   ],
   "source": [
    "p_mat"
   ]
  },
  {
   "cell_type": "code",
   "execution_count": 86,
   "metadata": {},
   "outputs": [
    {
     "data": {
      "text/plain": [
       "array([[1., 1., 1., ..., 1., 1., 1.],\n",
       "       [1., 1., 1., ..., 1., 1., 1.],\n",
       "       [1., 1., 1., ..., 1., 1., 1.],\n",
       "       ...,\n",
       "       [1., 1., 1., ..., 1., 1., 1.],\n",
       "       [1., 1., 1., ..., 1., 1., 1.],\n",
       "       [1., 1., 1., ..., 1., 1., 1.]])"
      ]
     },
     "execution_count": 86,
     "metadata": {},
     "output_type": "execute_result"
    }
   ],
   "source": [
    "np.ones((p_mat.shape[0], p_mat.shape[1]+1))"
   ]
  },
  {
   "cell_type": "code",
   "execution_count": 87,
   "metadata": {},
   "outputs": [
    {
     "data": {
      "text/plain": [
       "array([[0., 0., 0., ..., 0., 0., 1.],\n",
       "       [0., 0., 0., ..., 0., 0., 1.],\n",
       "       [0., 0., 0., ..., 0., 0., 1.],\n",
       "       ...,\n",
       "       [0., 0., 0., ..., 0., 0., 1.],\n",
       "       [0., 0., 0., ..., 0., 0., 1.],\n",
       "       [0., 0., 0., ..., 0., 0., 1.]])"
      ]
     },
     "execution_count": 87,
     "metadata": {},
     "output_type": "execute_result"
    }
   ],
   "source": [
    "data_mat"
   ]
  },
  {
   "cell_type": "code",
   "execution_count": 88,
   "metadata": {},
   "outputs": [
    {
     "name": "stdout",
     "output_type": "stream",
     "text": [
      "1.0\n",
      "1.0\n",
      "1.0\n",
      "1.0\n",
      "1.0\n",
      "1.0\n",
      "1.0\n",
      "1.0\n",
      "1.0\n",
      "1.0\n",
      "1.0\n"
     ]
    }
   ],
   "source": [
    "for i in data_mat[3]:\n",
    "    if i != 0:\n",
    "        print i"
   ]
  },
  {
   "cell_type": "code",
   "execution_count": 89,
   "metadata": {},
   "outputs": [
    {
     "data": {
      "text/plain": [
       "(3000L, 4500L)"
      ]
     },
     "execution_count": 89,
     "metadata": {},
     "output_type": "execute_result"
    }
   ],
   "source": [
    "p_mat.shape[0]\n",
    "p_mat.shape[1]+1\n",
    "p_mat.shape"
   ]
  },
  {
   "cell_type": "markdown",
   "metadata": {},
   "source": [
    "### Training / test split\n",
    "\n",
    "Finally, we split the data into a training set of 2500 sentences and a test set of 500 sentences (of which 250 are positive and 250 negative)."
   ]
  },
  {
   "cell_type": "code",
   "execution_count": 90,
   "metadata": {},
   "outputs": [
    {
     "name": "stdout",
     "output_type": "stream",
     "text": [
      "('train data: ', (2500L, 4501L))\n",
      "('test data: ', (500L, 4501L))\n"
     ]
    }
   ],
   "source": [
    "## Split the data into testing and training sets\n",
    "np.random.seed(0)\n",
    "test_inds = np.append(np.random.choice((np.where(y==-1))[0], 250, replace=False), np.random.choice((np.where(y==1))[0], 250, replace=False))\n",
    "train_inds = list(set(range(len(labels))) - set(test_inds))\n",
    "\n",
    "train_data = data_mat[train_inds,]\n",
    "train_labels = y[train_inds]\n",
    "\n",
    "test_data = data_mat[test_inds,]\n",
    "test_labels = y[test_inds]\n",
    "\n",
    "print(\"train data: \", train_data.shape)\n",
    "print(\"test data: \", test_data.shape)"
   ]
  },
  {
   "cell_type": "code",
   "execution_count": null,
   "metadata": {},
   "outputs": [],
   "source": []
  },
  {
   "cell_type": "markdown",
   "metadata": {},
   "source": [
    "## 2. Fitting a logistic regression model to the training data\n",
    "\n",
    "We could implement our own logistic regression solver using stochastic gradient descent, but fortunately, there is already one built into `scikit-learn`.\n",
    "\n",
    "Due to the randomness in the SGD procedure, different runs can yield slightly different solutions (and thus different error values)."
   ]
  },
  {
   "cell_type": "code",
   "execution_count": 91,
   "metadata": {},
   "outputs": [
    {
     "name": "stdout",
     "output_type": "stream",
     "text": [
      "Training error:  0.0348\n",
      "Test error:  0.194\n"
     ]
    }
   ],
   "source": [
    "from sklearn.linear_model import SGDClassifier\n",
    "\n",
    "## Fit logistic classifier on training data\n",
    "clf = SGDClassifier(loss=\"log\", penalty=\"none\")\n",
    "# y=w1*x1+w2*x2+w3*x3+....+w4500*x4500 x1 to x4500 are freqneucies of 4500 words , y=+/-1\n",
    "clf.fit(train_data, train_labels)\n",
    "\n",
    "## Pull out the parameters (w,b) of the logistic regression model\n",
    "w = clf.coef_\n",
    "b = clf.intercept_\n",
    "\n",
    "## Get predictions on training and test data\n",
    "preds_train = clf.predict(train_data)\n",
    "preds_test = clf.predict(test_data)\n",
    "\n",
    "## Compute errors\n",
    "errs_train = np.sum((preds_train > 0.0) != (train_labels > 0.0))\n",
    "errs_test = np.sum((preds_test > 0.0) != (test_labels > 0.0))\n",
    "\n",
    "print \"Training error: \", float(errs_train)/len(train_labels)\n",
    "print \"Test error: \", float(errs_test)/len(test_labels)"
   ]
  },
  {
   "cell_type": "code",
   "execution_count": 92,
   "metadata": {},
   "outputs": [
    {
     "data": {
      "text/plain": [
       "(1L, 4501L)"
      ]
     },
     "execution_count": 92,
     "metadata": {},
     "output_type": "execute_result"
    }
   ],
   "source": [
    "clf.coef_.shape\n"
   ]
  },
  {
   "cell_type": "markdown",
   "metadata": {},
   "source": [
    "## 3. Analyzing the margin\n",
    "\n",
    "The logistic regression model produces not just classifications but also conditional probability estimates. \n",
    "\n",
    "We will say that `x` has **margin** `gamma` if (according to the logistic regression model) `Pr(y=1|x) > (1/2)+gamma` or `Pr(y=1|x) < (1/2)-gamma`. The following function **margin_counts** takes as input the classifier (`clf`, computed earlier), the test set (`test_data`), and a value of `gamma`, and computes how many points in the test set have margin at least `gamma`."
   ]
  },
  {
   "cell_type": "code",
   "execution_count": 93,
   "metadata": {},
   "outputs": [],
   "source": [
    "## Return number of test points for which Pr(y=1) lies in [0, 0.5 - gamma) or (0.5 + gamma, 1]\n",
    "def margin_counts(clf, test_data, gamma):\n",
    "    ## Compute probability on each test point\n",
    "    preds = clf.predict_proba(test_data)[:,1] # possibility of label 1\n",
    "    ## Find data points for which prediction is at least gamma away from 0.5\n",
    "    margin_inds = np.where((preds > (0.5+gamma)) | (preds < (0.5-gamma)))[0]\n",
    "    \n",
    "    return float(len(margin_inds))"
   ]
  },
  {
   "cell_type": "code",
   "execution_count": 94,
   "metadata": {},
   "outputs": [
    {
     "data": {
      "text/plain": [
       "(500L, 2L)"
      ]
     },
     "execution_count": 94,
     "metadata": {},
     "output_type": "execute_result"
    }
   ],
   "source": [
    "# yx\n",
    "clf = SGDClassifier(loss=\"log\", penalty=\"none\")\n",
    "clf.fit(train_data, train_labels)\n",
    "preds = clf.predict_proba(test_data)\n",
    "preds.shape\n",
    "# each column of preds stands for the possibility of label for each data point"
   ]
  },
  {
   "cell_type": "markdown",
   "metadata": {},
   "source": [
    "We now visualize the test set's distribution of margin values."
   ]
  },
  {
   "cell_type": "code",
   "execution_count": 95,
   "metadata": {},
   "outputs": [
    {
     "data": {
      "image/png": "[encoded data removed]",
      "text/plain": [
       "<Figure size 432x288 with 1 Axes>"
      ]
     },
     "metadata": {
      "needs_background": "light"
     },
     "output_type": "display_data"
    }
   ],
   "source": [
    "gammas = np.arange(0,0.5,0.01)\n",
    "f = np.vectorize(lambda g: margin_counts(clf, test_data, g))\n",
    "plt.plot(gammas, f(gammas)/500.0, linewidth=2, color='green')\n",
    "plt.xlabel('Margin', fontsize=14)\n",
    "plt.ylabel('Fraction of points above margin', fontsize=14)\n",
    "plt.show()\n"
   ]
  },
  {
   "cell_type": "markdown",
   "metadata": {},
   "source": [
    "Next, we investigate a natural question: <font color=\"magenta\">Are points `x` with larger margin more likely to be classified correctly?</font>\n",
    "\n",
    "To address this, we define a function **margin_errors** that computes the fraction of points with margin at least `gamma` that are misclassified."
   ]
  },
  {
   "cell_type": "code",
   "execution_count": 96,
   "metadata": {},
   "outputs": [],
   "source": [
    "## Return error of predictions that lie in intervals [0, 0.5 - gamma) and (0.5 + gamma, 1]\n",
    "def margin_errors(clf, test_data, test_labels, gamma):\n",
    "    ## Compute probability on each test point\n",
    "    preds = clf.predict_proba(test_data)[:,1]\n",
    "    \n",
    "    ## Find data points for which prediction is at least gamma away from 0.5\n",
    "    margin_inds = np.where((preds > (0.5+gamma)) | (preds < (0.5-gamma)))[0]\n",
    "    \n",
    "    ## Compute error on those data points.\n",
    "    num_errors = np.sum((preds[margin_inds] > 0.5) != (test_labels[margin_inds] > 0.0))\n",
    "    return float(num_errors)/len(margin_inds)"
   ]
  },
  {
   "cell_type": "markdown",
   "metadata": {},
   "source": [
    "We now visualize the relationship between margin and error rate."
   ]
  },
  {
   "cell_type": "code",
   "execution_count": 97,
   "metadata": {},
   "outputs": [
    {
     "data": {
      "image/png": "[encoded data removed]",
      "text/plain": [
       "<Figure size 432x288 with 1 Axes>"
      ]
     },
     "metadata": {
      "needs_background": "light"
     },
     "output_type": "display_data"
    }
   ],
   "source": [
    "## Create grid of gamma values\n",
    "gammas = np.arange(0, 0.5, 0.01)\n",
    "\n",
    "## Compute margin_errors on test data for each value of g\n",
    "f = np.vectorize(lambda g: margin_errors(clf, test_data, test_labels, g))\n",
    "\n",
    "## Plot the result\n",
    "plt.plot(gammas, f(gammas), linewidth=2)\n",
    "plt.ylabel('Error rate', fontsize=14)\n",
    "plt.xlabel('Margin', fontsize=14)\n",
    "plt.show()"
   ]
  },
  {
   "cell_type": "markdown",
   "metadata": {},
   "source": [
    "## 4. Words with large influence\n",
    "\n",
    "Finally, we attempt to partially **interpret** the logistic regression model.\n",
    "\n",
    "Which words are most important in deciding whether a sentence is positive? As a first approximation to this, we simply take the words whose coefficients in `w` have the largest positive values.\n",
    "\n",
    "Likewise, we look at the words whose coefficients in `w` have the most negative values, and we think of these as influential in negative predictions."
   ]
  },
  {
   "cell_type": "code",
   "execution_count": 130,
   "metadata": {},
   "outputs": [
    {
     "data": {
      "text/plain": [
       "(1L, 4500L)"
      ]
     },
     "execution_count": 130,
     "metadata": {},
     "output_type": "execute_result"
    }
   ],
   "source": [
    "# w is the coefficent vetor for the 4500 words\n",
    "w.shape\n",
    "w = np.delete(w,-1,axis=1)\n",
    "w.shape"
   ]
  },
  {
   "cell_type": "code",
   "execution_count": 143,
   "metadata": {},
   "outputs": [
    {
     "name": "stdout",
     "output_type": "stream",
     "text": [
      "Highly negative words: \n",
      "['poor', 'worst', 'bad', 'rude', 'aren', 'disappointing', 'beep', 'unfortunately', 'bland', 'disappointment', 'then', 'wasn', 'failed', 'lacks', 'started', 'didn', 'crap', 'fly', 'fails', 'horror', 'mediocre', 'sucks', 'literally', 'return', 'avoid', 'same', 'joke', 'looks', 'waited', 'ripped', 'waste', 'not', 'terrible', 'break', 'cheap', 'talk', 'tasteless', 'doesn', 'make', 'junk', 'front', 'flavorless', 'torture', 'plot', 'imagine', 'none', 'off', 'establishment', 'odd', 'reason']\n",
      "Highly positive words: \n",
      "['happy', 'friendly', 'plays', 'data', 'cult', 'happier', 'hand', 'vegas', 'ask', 'clear', 'angel', 'fast', 'fun', 'wonderful', 'sex', 'must', 'best', 'both', 'motorola', 'ray', 'charles', 'family', 'joy', 'loved', 'wow', 'delicious', 'incredible', 'cool', 'fall', 'fantastic', 'comfortable', 'scamp', 'art', 'easy', 'liked', 'amazing', 'love', 'beautiful', 'actually', 'great', 'awesome', 'funny', 'entertaining', 'works', 'nice', 'enjoyed', 'perfect', 'interesting']\n"
     ]
    }
   ],
   "source": [
    "## Convert vocabulary into a list:\n",
    "#vectorize.vocabulary is a dictionary ,and use sorted to sort it based on second row of the tuple\n",
    "#np.array is to store z[0] in an array\n",
    "vocab = np.array([z[0] for z in sorted(vectorizer.vocabulary_.items(), key=lambda x:x[1])])\n",
    "\n",
    "## Get indices of sorting w\n",
    "inds = np.argsort(w)\n",
    "\n",
    "## Words with large negative values\n",
    "neg_inds = inds[0][0:50]\n",
    "print(\"Highly negative words: \")\n",
    "print([str(i) for i in list(vocab[neg_inds])])\n",
    "\n",
    "## Words with large positive values\n",
    "pos_inds = inds[0][-49:-1]\n",
    "print(\"Highly positive words: \")\n",
    "print([str(x) for x in list(vocab[pos_inds])])"
   ]
  },
  {
   "cell_type": "code",
   "execution_count": null,
   "metadata": {},
   "outputs": [],
   "source": [
    "len(vectorizer.vocabulary_.items())\n",
    "vectorizer.vocabulary_\n",
    "vocab = np.array([z[0] for z in sorted(vectorizer.vocabulary_.items(), key=lambda x:x[1])])\n",
    "\n",
    "z[0]\n",
    "vectorizer.get_feature_names()[4499]\n",
    "#sorted(vectorizer.vocabulary_.items(), key=lambda x:x[1])"
   ]
  },
  {
   "cell_type": "code",
   "execution_count": 141,
   "metadata": {},
   "outputs": [
    {
     "data": {
      "text/plain": [
       "array([2770, 4449,  303, 3187,  205], dtype=int64)"
      ]
     },
     "execution_count": 141,
     "metadata": {},
     "output_type": "execute_result"
    }
   ],
   "source": [
    "inds = np.argsort(w[0:4500])\n",
    "inds\n",
    "\n",
    "inds[0][0:5]\n"
   ]
  },
  {
   "cell_type": "markdown",
   "metadata": {},
   "source": [
    "## 5. Something for you to think about\n",
    "\n",
    "Suppose you are building a classifier, and can tolerate an error rate of at most some value `e`. Unfortunately, every classifier you try has a higher error than this. \n",
    "\n",
    "Therefore, you decide that the classifier is allowed to occasionally **abstain**: that is, to say *\"don't know\"*. When it actually makes a prediction, it must have error rate at most `e`. And subject to this constraint, it should abstain as infrequently as possible.\n",
    "\n",
    "How would you build an abstaining classifier of this kind, starting from a logistic regression model?"
   ]
  },
  {
   "cell_type": "code",
   "execution_count": null,
   "metadata": {},
   "outputs": [],
   "source": []
  }
 ],
 "metadata": {
  "anaconda-cloud": {},
  "kernelspec": {
   "display_name": "Python 2",
   "language": "python",
   "name": "python2"
  },
  "language_info": {
   "codemirror_mode": {
    "name": "ipython",
    "version": 2
   },
   "file_extension": ".py",
   "mimetype": "text/x-python",
   "name": "python",
   "nbconvert_exporter": "python",
   "pygments_lexer": "ipython2",
   "version": "2.7.16"
  },
  "toc": {
   "colors": {
    "hover_highlight": "#DAA520",
    "navigate_num": "#000000",
    "navigate_text": "#333333",
    "running_highlight": "#FF0000",
    "selected_highlight": "#FFD700",
    "sidebar_border": "#EEEEEE",
    "wrapper_background": "#FFFFFF"
   },
   "moveMenuLeft": true,
   "nav_menu": {
    "height": "12px",
    "width": "252px"
   },
   "navigate_menu": true,
   "number_sections": false,
   "sideBar": true,
   "threshold": 4,
   "toc_cell": false,
   "toc_section_display": "block",
   "toc_window_display": false,
   "widenNotebook": false
  }
 },
 "nbformat": 4,
 "nbformat_minor": 1
}
