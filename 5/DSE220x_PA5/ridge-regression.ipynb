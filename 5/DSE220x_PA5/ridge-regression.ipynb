{
 "cells": [
  {
   "cell_type": "markdown",
   "metadata": {},
   "source": [
    "# Gradient-based solver for ridge regression"
   ]
  },
  {
   "cell_type": "markdown",
   "metadata": {},
   "source": [
    "In this notebook, you will create a **gradient descent** solver for **ridge regression** and then compare it to the built-in solver in `sklearn.linear_model`."
   ]
  },
  {
   "cell_type": "markdown",
   "metadata": {},
   "source": [
    "## 1. Set up notebook and create data set"
   ]
  },
  {
   "cell_type": "markdown",
   "metadata": {},
   "source": [
    "After loading in some standard packages, we create a synthetic data set consisting of data points `(x,y)`:\n",
    "* `x`: 100-dimensional vector whose coordinates are independent draws from a standard normal (Gaussian) distribution\n",
    "* `y`: response value given by `y = wx + e` where `w` is a target regression function and `e` is Gaussian noise\n",
    "\n",
    "We will fix `w` to be the 100-dimensional vector whose first ten coordinates are exactly 1.0, and whose remaining coordinates are zero. Thus only the first ten coordinates of `x` are relevant to the regression task."
   ]
  },
  {
   "cell_type": "code",
   "execution_count": 1,
   "metadata": {},
   "outputs": [],
   "source": [
    "%matplotlib inline\n",
    "import numpy as np\n",
    "import matplotlib\n",
    "import matplotlib.pyplot as plt\n",
    "from sklearn import linear_model\n",
    "from sklearn.metrics import mean_squared_error\n",
    "matplotlib.rc('xtick', labelsize=14) \n",
    "matplotlib.rc('ytick', labelsize=14)"
   ]
  },
  {
   "cell_type": "code",
   "execution_count": 2,
   "metadata": {},
   "outputs": [],
   "source": [
    "## the purpose of generate_data is to pull down some data points from a normal distribution and assign a new relationship to them \n",
    "## the assigned relation is the possibility is only related to the first 10 parameter and e\n",
    "## what we need to do is to find this assigned relationship of [1,1,1,1,1,1,1,1,1,1,0,0,0,0,0,.......]"
   ]
  },
  {
   "cell_type": "markdown",
   "metadata": {},
   "source": [
    "The following procedure, **generate_data**, creates a data set of a specified number of points. It is invoked as follows:\n",
    "* `trainx, trainy = generate_data(n)`\n",
    "\n",
    "Here:\n",
    "* `n` is the target number of points\n",
    "* `trainx`: `nx100` array of data points\n",
    "* `trainy`: array of `n` response values"
   ]
  },
  {
   "cell_type": "code",
   "execution_count": 3,
   "metadata": {},
   "outputs": [],
   "source": [
    "def generate_data(n):\n",
    "    d = 100\n",
    "    w = np.zeros(d)\n",
    "    for i in range(0,10):\n",
    "        w[i] = 1.0\n",
    "    \n",
    "    trainx = np.random.normal(size=(n,d))\n",
    "    e = np.random.normal(size=(n))\n",
    " \n",
    "    trainy = np.dot(trainx, w) + e\n",
    "    #\n",
    "    return trainx, trainy"
   ]
  },
  {
   "cell_type": "code",
   "execution_count": 5,
   "metadata": {},
   "outputs": [],
   "source": [
    "h =1\n",
    "f = 10\n",
    "w = np.zeros(f)\n",
    "for i in range(0,10):\n",
    "    w[i] = 1.0\n",
    "trainxx = np.random.normal(size=(h,f))\n",
    "e = np.random.normal(size=(h))\n",
    " \n",
    "trainyy = np.dot(trainxx, w) + e"
   ]
  },
  {
   "cell_type": "code",
   "execution_count": null,
   "metadata": {},
   "outputs": [],
   "source": [
    "trainxx"
   ]
  },
  {
   "cell_type": "code",
   "execution_count": null,
   "metadata": {},
   "outputs": [],
   "source": [
    "np.mean(trainxx) #default value is 0"
   ]
  },
  {
   "cell_type": "code",
   "execution_count": null,
   "metadata": {},
   "outputs": [],
   "source": [
    "np.std(trainxx, ddof=1) #defalt value is 1"
   ]
  },
  {
   "cell_type": "code",
   "execution_count": null,
   "metadata": {},
   "outputs": [],
   "source": [
    "trainyy"
   ]
  },
  {
   "cell_type": "code",
   "execution_count": null,
   "metadata": {},
   "outputs": [],
   "source": [
    "e"
   ]
  },
  {
   "cell_type": "code",
   "execution_count": 6,
   "metadata": {},
   "outputs": [
    {
     "data": {
      "text/plain": [
       "[]"
      ]
     },
     "execution_count": 6,
     "metadata": {},
     "output_type": "execute_result"
    }
   ],
   "source": [
    "losses = []\n",
    "#loss = (np.dot(ones,y-(np.dot(x,w) + b)))**2 + C*np.dot(w,w)  \n",
    "#losses. append(loss)    \n",
    "losses"
   ]
  },
  {
   "cell_type": "markdown",
   "metadata": {},
   "source": [
    "## 2. Gradient descent solver for ridge regression"
   ]
  },
  {
   "cell_type": "markdown",
   "metadata": {},
   "source": [
    "<font color=\"magenta\">**For you to do:**</font> Define a procedure, **ridge_regression_GD**, that uses gradient descent to solve the ridge regression problem. It is invoked as follows:\n",
    "\n",
    "* `w,b,losses = ridge_regression_GD(x,y,C)`\n",
    "\n",
    "Here, the input consists of:\n",
    "* training data `x,y`, where `x` and `y` are numpy arrays of dimension `n`-by-`d` and `n`, respectively (if there are `n` training points)\n",
    "* regularization constant `C`\n",
    "\n",
    "The function should find the `d`-dimensional vector `w` and offset `b` that minimize the ridge regression loss function (with regularization constant `C`), and return:\n",
    "* `w` and `b`\n",
    "* `losses`, an array containing the ridge regression loss at each iteration\n",
    "\n",
    "<font color=\"magenta\">Advice:</font> First figure out the derivative, which has a relatively simple form. Next, when implementing gradient descent, think carefully about two issues.\n",
    "\n",
    "1. What is the step size?\n",
    "2. When has the procedure converged?\n",
    "\n",
    "Take the time to experiment with different ways of handling these."
   ]
  },
  {
   "cell_type": "code",
   "execution_count": 7,
   "metadata": {},
   "outputs": [],
   "source": [
    "def ridge_regression_GD(x,y,C):\n",
    "    ### Put your code here\n",
    "    j = 0\n",
    "    k = 0\n",
    "    m = 0\n",
    "    eta = 0.001\n",
    "    b = np.zeros(len(y))\n",
    "    w= np.zeros(x[1].size)\n",
    "    # errors = np.zeros(len(y))\n",
    "\n",
    "    \n",
    "    errors = y-(np.dot(x,w)+b)\n",
    "    ones = np.ones(len(y))\n",
    "    loss = np.dot(errors.T,errors) + C*np.dot(w.T,w) \n",
    "    losses.append(loss)    \n",
    "    derivate = [-2*np.dot(errors.T,ones),-2*np.dot(errors.T,x)+2*C*w]    \n",
    "    w = w - eta * derivate [1]\n",
    "    b = b - eta * derivate [0]   \n",
    "    #loss = np.dot(ones,(y-(np.dot(x,w) + b))**2) + C*np.dot(w,w) \n",
    "   \n",
    "    while losses[m] <=losses[m-j] or m ==1:\n",
    "    \n",
    "        errors = y-(np.dot(x,w)+b)\n",
    "       \n",
    "    \n",
    "        loss = np.dot(errors.T,errors) + C*np.dot(w.T,w) \n",
    "        losses. append(loss)  \n",
    "        \n",
    "        j = 1\n",
    "        m = m + 1\n",
    "        eta = eta/j\n",
    "    \n",
    "        derivate = [-2*np.sum(errors),-2*np.dot(x.T,errors)+2*C*w]     \n",
    "        w = w - eta * derivate [1]\n",
    "        b = b - eta * derivate [0]  \n",
    "        if eta <= 2**(-20):\n",
    "            break\n",
    "\n",
    "        \n",
    "    return w,b,losses"
   ]
  },
  {
   "cell_type": "code",
   "execution_count": null,
   "metadata": {},
   "outputs": [],
   "source": []
  },
  {
   "cell_type": "markdown",
   "metadata": {},
   "source": [
    "Let's try it out and print a graph of the loss values during the optimization process."
   ]
  },
  {
   "cell_type": "code",
   "execution_count": 8,
   "metadata": {},
   "outputs": [
    {
     "data": {
      "image/png": "[encoded data removed]",
      "text/plain": [
       "<Figure size 432x288 with 1 Axes>"
      ]
     },
     "metadata": {
      "needs_background": "light"
     },
     "output_type": "display_data"
    },
    {
     "data": {
      "text/plain": [
       "[1988.8244558011988,\n",
       " 598.3467424505088,\n",
       " 331.72824900302885,\n",
       " 234.74020112420618,\n",
       " 188.2366787904868,\n",
       " 161.44576893853102,\n",
       " 144.01985969681797,\n",
       " 131.77586649706532,\n",
       " 122.7365196492727,\n",
       " 115.83792092550732,\n",
       " 110.44779309550273,\n",
       " 106.16195562912645,\n",
       " 102.70785927234151,\n",
       " 99.89416854534532,\n",
       " 97.58227312891373,\n",
       " 95.66918426091148,\n",
       " 94.0767678987338,\n",
       " 92.74470424256549,\n",
       " 91.6257366893568,\n",
       " 90.68237854554408,\n",
       " 89.88457620048406,\n",
       " 89.20801630176838,\n",
       " 88.63287657537462,\n",
       " 88.14288861673373,\n",
       " 87.72462420697471,\n",
       " 87.3669445592525,\n",
       " 87.06057021932978,\n",
       " 86.79774162248604,\n",
       " 86.57194868095728,\n",
       " 86.37771357777143,\n",
       " 86.2104150249921,\n",
       " 86.0661451586666,\n",
       " 85.94159235238696,\n",
       " 85.83394477889249,\n",
       " 85.7408106987882,\n",
       " 85.66015231981906,\n",
       " 85.59023072740396,\n",
       " 85.52955989221573,\n",
       " 85.47686815255165,\n",
       " 85.43106587616154,\n",
       " 85.39121824852312,\n",
       " 85.35652232731285,\n",
       " 85.32628765718906,\n",
       " 85.29991986339151,\n",
       " 85.27690674343143,\n",
       " 85.25680645819425,\n",
       " 85.23923749086951,\n",
       " 85.22387009720686,\n",
       " 85.21041901598312,\n",
       " 85.19863724607926,\n",
       " 85.18831072766655,\n",
       " 85.17925379084994,\n",
       " 85.17130525665462,\n",
       " 85.16432509322647,\n",
       " 85.15819154516694,\n",
       " 85.15279866653776,\n",
       " 85.14805419866826,\n",
       " 85.14387774280995,\n",
       " 85.14019918519465,\n",
       " 85.1369573383875,\n",
       " 85.13409876818258,\n",
       " 85.13157677981822,\n",
       " 85.12935054112864,\n",
       " 85.12738432350397,\n",
       " 85.12564684429624,\n",
       " 85.12411069666024,\n",
       " 85.12275185482005,\n",
       " 85.1215492444569,\n",
       " 85.12048436936966,\n",
       " 85.11954098680134,\n",
       " 85.11870482488737,\n",
       " 85.1179633365903,\n",
       " 85.11730548526312,\n",
       " 85.11672155765207,\n",
       " 85.11620300072134,\n",
       " 85.11574227917387,\n",
       " 85.1153327509665,\n",
       " 85.11496855847966,\n",
       " 85.11464453331622,\n",
       " 85.11435611297435,\n",
       " 85.11409926787059,\n",
       " 85.11387043739234,\n",
       " 85.11366647383113,\n",
       " 85.1134845931988,\n",
       " 85.1133223320588,\n",
       " 85.11317750961702,\n",
       " 85.11304819441467,\n",
       " 85.11293267504875,\n",
       " 85.11282943442151,\n",
       " 85.11273712708156,\n",
       " 85.1126545592764,\n",
       " 85.11258067138304,\n",
       " 85.11251452242679,\n",
       " 85.11245527643253,\n",
       " 85.11240219038736,\n",
       " 85.11235460361858,\n",
       " 85.11231192841709,\n",
       " 85.11227364175605,\n",
       " 85.11223927797425,\n",
       " 85.11220842230813,\n",
       " 85.11218070517265,\n",
       " 85.11215579710128,\n",
       " 85.11213340426775,\n",
       " 85.11211326452086,\n",
       " 85.11209514387198,\n",
       " 85.1120788333826,\n",
       " 85.11206414640495,\n",
       " 85.1120509161348,\n",
       " 85.11203899344002,\n",
       " 85.11202824493343,\n",
       " 85.11201855126124,\n",
       " 85.11200980558309,\n",
       " 85.11200191222065,\n",
       " 85.11199478545691,\n",
       " 85.11198834846758,\n",
       " 85.11198253237075,\n",
       " 85.11197727538095,\n",
       " 85.11197252205561,\n",
       " 85.11196822262413,\n",
       " 85.11196433238977,\n",
       " 85.11196081119641,\n",
       " 85.11195762295321,\n",
       " 85.11195473521013,\n",
       " 85.11195211877951,\n",
       " 85.11194974739759,\n",
       " 85.11194759742271,\n",
       " 85.11194564756542,\n",
       " 85.11194387864694,\n",
       " 85.11194227338362,\n",
       " 85.11194081619354,\n",
       " 85.11193949302415,\n",
       " 85.11193829119708,\n",
       " 85.11193719926985,\n",
       " 85.11193620691152,\n",
       " 85.11193530479142,\n",
       " 85.11193448447938,\n",
       " 85.11193373835596,\n",
       " 85.1119330595322,\n",
       " 85.1119324417775,\n",
       " 85.11193187945472,\n",
       " 85.11193136746188,\n",
       " 85.11193090117993,\n",
       " 85.11193047642556,\n",
       " 85.11193008940904,\n",
       " 85.11192973669588,\n",
       " 85.11192941517267,\n",
       " 85.11192912201616,\n",
       " 85.11192885466541,\n",
       " 85.11192861079687,\n",
       " 85.11192838830144,\n",
       " 85.11192818526438,\n",
       " 85.11192799994683,\n",
       " 85.11192783076922,\n",
       " 85.11192767629608,\n",
       " 85.11192753522288,\n",
       " 85.11192740636352,\n",
       " 85.11192728863931,\n",
       " 85.11192718106912,\n",
       " 85.11192708276016,\n",
       " 85.11192699289997,\n",
       " 85.11192691074889,\n",
       " 85.11192683563345,\n",
       " 85.11192676694026,\n",
       " 85.11192670411052,\n",
       " 85.11192664663513,\n",
       " 85.11192659404999,\n",
       " 85.11192654593209,\n",
       " 85.11192650189574,\n",
       " 85.11192646158916,\n",
       " 85.11192642469148,\n",
       " 85.11192639090997,\n",
       " 85.11192635997743,\n",
       " 85.11192633165008,\n",
       " 85.11192630570528,\n",
       " 85.11192628193982,\n",
       " 85.11192626016803,\n",
       " 85.11192624022044,\n",
       " 85.11192622194207,\n",
       " 85.11192620519148,\n",
       " 85.1119261898393,\n",
       " 85.1119261757673,\n",
       " 85.11192616286738,\n",
       " 85.11192615104082,\n",
       " 85.11192614019716,\n",
       " 85.11192613025375,\n",
       " 85.11192612113508,\n",
       " 85.11192611277194,\n",
       " 85.11192610510102,\n",
       " 85.11192609806446,\n",
       " 85.11192609160922,\n",
       " 85.11192608568675,\n",
       " 85.11192608025266,\n",
       " 85.11192607526628,\n",
       " 85.11192607069037,\n",
       " 85.11192606649082,\n",
       " 85.11192606263639,\n",
       " 85.11192605909842,\n",
       " 85.11192605585077,\n",
       " 85.11192605286932,\n",
       " 85.11192605013211,\n",
       " 85.11192604761897,\n",
       " 85.11192604531139,\n",
       " 85.11192604319243,\n",
       " 85.11192604124652,\n",
       " 85.11192603945946,\n",
       " 85.11192603781818,\n",
       " 85.11192603631065,\n",
       " 85.11192603492593,\n",
       " 85.11192603365394,\n",
       " 85.11192603248544,\n",
       " 85.11192603141193,\n",
       " 85.11192603042566,\n",
       " 85.11192602951952,\n",
       " 85.11192602868687,\n",
       " 85.11192602792178,\n",
       " 85.1119260272187,\n",
       " 85.11192602657262,\n",
       " 85.11192602597882,\n",
       " 85.11192602543312,\n",
       " 85.11192602493153,\n",
       " 85.11192602447052,\n",
       " 85.11192602404681,\n",
       " 85.11192602365725,\n",
       " 85.1119260232992,\n",
       " 85.11192602296998,\n",
       " 85.11192602266739,\n",
       " 85.11192602238917,\n",
       " 85.11192602213335,\n",
       " 85.11192602189814,\n",
       " 85.11192602168188,\n",
       " 85.11192602148304,\n",
       " 85.1119260213002,\n",
       " 85.11192602113205,\n",
       " 85.11192602097742,\n",
       " 85.11192602083523,\n",
       " 85.11192602070444,\n",
       " 85.11192602058415,\n",
       " 85.11192602047352,\n",
       " 85.1119260203718,\n",
       " 85.11192602027822,\n",
       " 85.11192602019213,\n",
       " 85.11192602011293,\n",
       " 85.11192602004013,\n",
       " 85.11192601997308,\n",
       " 85.11192601991146,\n",
       " 85.11192601985476,\n",
       " 85.11192601980258,\n",
       " 85.11192601975459,\n",
       " 85.11192601971044,\n",
       " 85.11192601966982,\n",
       " 85.11192601963246,\n",
       " 85.11192601959803,\n",
       " 85.11192601956641,\n",
       " 85.11192601953728,\n",
       " 85.11192601951049,\n",
       " 85.11192601948584,\n",
       " 85.11192601946314,\n",
       " 85.11192601944228,\n",
       " 85.11192601942304,\n",
       " 85.11192601940536,\n",
       " 85.11192601938907,\n",
       " 85.11192601937414,\n",
       " 85.11192601936037,\n",
       " 85.11192601934768,\n",
       " 85.11192601933597,\n",
       " 85.11192601932524,\n",
       " 85.11192601931536,\n",
       " 85.11192601930625,\n",
       " 85.11192601929788,\n",
       " 85.11192601929014,\n",
       " 85.11192601928308,\n",
       " 85.11192601927655,\n",
       " 85.1119260192705,\n",
       " 85.11192601926497,\n",
       " 85.1119260192599,\n",
       " 85.1119260192552,\n",
       " 85.11192601925086,\n",
       " 85.11192601924688,\n",
       " 85.11192601924324,\n",
       " 85.11192601923987,\n",
       " 85.11192601923678,\n",
       " 85.11192601923389,\n",
       " 85.11192601923128,\n",
       " 85.11192601922885,\n",
       " 85.1119260192266,\n",
       " 85.11192601922458,\n",
       " 85.11192601922268,\n",
       " 85.11192601922097,\n",
       " 85.11192601921934,\n",
       " 85.11192601921789,\n",
       " 85.11192601921648,\n",
       " 85.11192601921526,\n",
       " 85.11192601921411,\n",
       " 85.11192601921304,\n",
       " 85.11192601921206,\n",
       " 85.11192601921118,\n",
       " 85.11192601921033,\n",
       " 85.11192601920958,\n",
       " 85.11192601920887,\n",
       " 85.11192601920823,\n",
       " 85.1119260192076,\n",
       " 85.11192601920709,\n",
       " 85.11192601920658,\n",
       " 85.11192601920612,\n",
       " 85.11192601920568,\n",
       " 85.1119260192053,\n",
       " 85.11192601920493,\n",
       " 85.11192601920459,\n",
       " 85.11192601920429,\n",
       " 85.11192601920399,\n",
       " 85.11192601920375,\n",
       " 85.1119260192035,\n",
       " 85.11192601920328,\n",
       " 85.11192601920305,\n",
       " 85.1119260192029,\n",
       " 85.11192601920271,\n",
       " 85.11192601920256,\n",
       " 85.1119260192024,\n",
       " 85.11192601920226,\n",
       " 85.11192601920214,\n",
       " 85.11192601920203,\n",
       " 85.11192601920192,\n",
       " 85.1119260192018,\n",
       " 85.11192601920173,\n",
       " 85.11192601920163,\n",
       " 85.11192601920159,\n",
       " 85.11192601920152,\n",
       " 85.11192601920143,\n",
       " 85.11192601920138,\n",
       " 85.11192601920133,\n",
       " 85.11192601920129,\n",
       " 85.11192601920123,\n",
       " 85.11192601920119,\n",
       " 85.11192601920115,\n",
       " 85.11192601920112,\n",
       " 85.11192601920106,\n",
       " 85.11192601920106,\n",
       " 85.11192601920101,\n",
       " 85.11192601920101,\n",
       " 85.11192601920096,\n",
       " 85.11192601920098]"
      ]
     },
     "execution_count": 8,
     "metadata": {},
     "output_type": "execute_result"
    }
   ],
   "source": [
    "losses=[]\n",
    "# Generate 200 data points\n",
    "n = 200\n",
    "x,y = generate_data(n)\n",
    "# Set regularization constant\n",
    "C = 1.0\n",
    "\n",
    "# Run gradient descent solver\n",
    "w, b, losses = ridge_regression_GD(x,y,C)\n",
    "# Plot the losses\n",
    "plt.plot(losses,'r')\n",
    "plt.xlabel('Iterations', fontsize=14)\n",
    "plt.ylabel('Loss', fontsize=14)\n",
    "plt.show()\n",
    "len(losses)\n",
    "losses\n"
   ]
  },
  {
   "cell_type": "code",
   "execution_count": null,
   "metadata": {},
   "outputs": [],
   "source": [
    "x.shape"
   ]
  },
  {
   "cell_type": "code",
   "execution_count": null,
   "metadata": {},
   "outputs": [],
   "source": [
    "losses=[]\n",
    "n = 200\n",
    "x,y = generate_data(n)\n",
    "j = 0\n",
    "k = 0\n",
    "m = 0\n",
    "eta = 0.001\n",
    "b = np.zeros(len(y))\n",
    "w= np.zeros(x[1].size)\n",
    "    # errors = np.zeros(len(y))\n",
    "\n",
    "    \n",
    "errors = y-(np.dot(x,w)+b)\n",
    "ones = np.ones(len(y))\n",
    "loss = np.dot(errors.T,errors) + C*np.dot(w.T,w) \n",
    "losses.append(loss)    \n",
    "derivate = [-2*np.sum(errors),-2*np.dot(x.T,errors)+2*C*w]    \n",
    "w = w - eta * derivate [1]\n",
    "b = b - eta * derivate [0]   \n",
    "    #loss = np.dot(ones,(y-(np.dot(x,w) + b))**2) + C*np.dot(w,w) \n",
    "   \n",
    "losses\n",
    "eta * derivate [1]"
   ]
  },
  {
   "cell_type": "code",
   "execution_count": null,
   "metadata": {},
   "outputs": [],
   "source": [
    "while losses[m] <=losses[m-j] or m ==1:\n",
    "    \n",
    "    errors = y-(np.dot(x,w)+b)\n",
    "       \n",
    "    \n",
    "    loss = np.dot(errors.T,errors) + C*np.dot(w.T,w) \n",
    "    losses. append(loss)  \n",
    "        \n",
    "    j = 1\n",
    "    m = m + 1\n",
    "    eta = eta*.5\n",
    "    \n",
    "    derivate = [-2*np.sum(errors),-2*np.dot(x.T,errors)+2*C*w]     \n",
    "    w = w - eta * derivate [1]\n",
    "    b = b - eta * derivate [0]  \n",
    "    if eta <= 2**(-20):\n",
    "        break\n",
    "losses\n",
    "eta\n",
    "\n",
    "\n",
    "\n",
    "\n",
    "\n",
    "\n",
    "\n",
    "\n"
   ]
  },
  {
   "cell_type": "code",
   "execution_count": null,
   "metadata": {},
   "outputs": [],
   "source": [
    "2**(-20)"
   ]
  },
  {
   "cell_type": "markdown",
   "metadata": {},
   "source": [
    "## 3. Evaluate the gradient descent solver"
   ]
  },
  {
   "cell_type": "markdown",
   "metadata": {},
   "source": [
    "Now let's compare the regressor found by your gradient descent procedure to that returned by the built-in ridge regression solver in `sklearn`. We will compare them in two ways:\n",
    "* Their MSE values\n",
    "* The distance between the corresponding `w`-vectors\n",
    "\n",
    "The latter should be smaller than 10^{-4}.\n"
   ]
  },
  {
   "cell_type": "code",
   "execution_count": 9,
   "metadata": {},
   "outputs": [],
   "source": [
    "def compute_mse(w,b,x,y):\n",
    "    residuals = y - (np.dot(x, w) + b)\n",
    "    return np.dot(residuals, residuals)/n"
   ]
  },
  {
   "cell_type": "code",
   "execution_count": 12,
   "metadata": {},
   "outputs": [
    {
     "name": "stdout",
     "output_type": "stream",
     "text": [
      "MSE of gradient descent solver:  0.5992490001160715\n",
      "MSE of built-in solver:  0.5992490001155558\n",
      "Distance between w-coefficients:  5.022071253271302e-11\n"
     ]
    }
   ],
   "source": [
    "# Generate 200 data points\n",
    "n = 200\n",
    "x,y = generate_data(n)\n",
    "# Set regularization constant\n",
    "C = 10\n",
    "# Run gradient descent solver and compute its MSE\n",
    "w, b, losses = ridge_regression_GD(x,y,C)\n",
    "# Use built-in routine for ridge regression and compute MSE\n",
    "regr = linear_model.Ridge(alpha=C)\n",
    "regr.fit(x, y)\n",
    "# Print MSE values and L2 distance between the regression functions\n",
    "print \"MSE of gradient descent solver: \", compute_mse(w,b,x,y)\n",
    "print \"MSE of built-in solver: \", mean_squared_error(regr.predict(x), y)\n",
    "# the norm of distance between w from builtin function and w from gradient descent\n",
    "print \"Distance between w-coefficients: \", np.linalg.norm(w-regr.coef_)"
   ]
  },
  {
   "cell_type": "markdown",
   "metadata": {},
   "source": [
    "<font color=\"magenta\">**Something to think about**</font>\n",
    "\n",
    "The data was originally generated using a linear function in which only ten of the 100 features (the first ten) were relevant. Does the vector `w` returned by ridge regression correctly identify the relevant features?"
   ]
  },
  {
   "cell_type": "code",
   "execution_count": 13,
   "metadata": {},
   "outputs": [
    {
     "data": {
      "text/plain": [
       "array([ 1.01970585e+00,  8.71450355e-01,  9.71231453e-01,  7.73099202e-01,\n",
       "        6.63816302e-01,  1.02863963e+00,  9.12156350e-01,  9.10847338e-01,\n",
       "        8.54227198e-01,  9.05176646e-01, -3.55704379e-02, -1.05789523e-01,\n",
       "       -1.70825517e-01,  5.48639105e-02, -6.65388982e-02,  5.41349801e-02,\n",
       "       -7.75464823e-02,  4.99440381e-02,  2.00428903e-01, -1.25633420e-01,\n",
       "       -5.67965455e-02, -7.93589076e-02,  3.10431256e-04,  1.12480527e-01,\n",
       "        1.60727573e-01, -4.66157754e-02,  1.05296321e-01,  1.08500214e-01,\n",
       "       -1.03642816e-01, -3.32774342e-02, -9.59960366e-03,  7.36714223e-03,\n",
       "        1.42640404e-02,  6.57189996e-02,  8.07356492e-02,  8.51593902e-02,\n",
       "        9.94690764e-02,  5.58178486e-02,  5.11091635e-02,  9.94992838e-03,\n",
       "       -1.69679285e-02, -6.57839575e-02,  1.42952361e-01,  4.14714703e-04,\n",
       "        1.72845739e-01, -1.22516744e-01, -6.38400365e-02,  1.35297956e-01,\n",
       "        2.73045216e-03,  4.92092102e-02,  1.51929200e-02, -3.77311914e-03,\n",
       "       -5.56968625e-02, -1.44041340e-01, -1.28105602e-01,  5.00809489e-02,\n",
       "       -1.75474439e-02,  4.80651658e-02, -4.78112777e-02, -4.16719671e-02,\n",
       "        4.41575885e-02, -7.97715006e-02, -8.59101792e-03,  5.51273571e-02,\n",
       "        2.10264631e-02, -7.41865762e-02, -1.11846064e-01, -7.09679986e-02,\n",
       "       -7.27634817e-02, -3.95345004e-02,  2.07544469e-02, -2.10194093e-01,\n",
       "       -1.34889835e-01,  1.53296509e-02, -7.87239988e-02,  3.09951266e-02,\n",
       "        9.32462306e-02,  2.34573103e-02,  1.23141120e-01,  5.66292522e-02,\n",
       "       -1.81074293e-01, -1.34827424e-01,  1.00971606e-01, -3.51048541e-02,\n",
       "       -1.83272616e-01, -4.65697600e-02, -1.17534721e-02, -1.07464912e-01,\n",
       "       -5.16053576e-02,  1.19624509e-01,  1.15233848e-03, -1.28338265e-02,\n",
       "        3.64786606e-02,  9.80079210e-02, -2.17224401e-02,  7.02905085e-02,\n",
       "       -3.25942946e-02,  7.24900983e-02, -5.56410408e-02, -5.40702374e-02])"
      ]
     },
     "execution_count": 13,
     "metadata": {},
     "output_type": "execute_result"
    }
   ],
   "source": [
    "w"
   ]
  },
  {
   "cell_type": "code",
   "execution_count": null,
   "metadata": {},
   "outputs": [],
   "source": []
  },
  {
   "cell_type": "code",
   "execution_count": 28,
   "metadata": {},
   "outputs": [
    {
     "data": {
      "text/plain": [
       "array([71, 84, 80, 12, 53, 72, 81, 54, 19, 45, 66, 87, 11, 28, 61, 21, 74,\n",
       "       16, 65, 68, 67, 14, 41, 46, 20, 52, 98, 99, 88, 58, 25, 85, 59, 69,\n",
       "       10, 83, 29, 96, 94, 56, 40, 91, 86, 30, 62, 51, 22, 43, 90, 48, 31,\n",
       "       39, 32, 50, 73, 70, 64, 77, 75, 92, 60, 57, 49, 17, 55, 38, 15, 13,\n",
       "       63, 37, 79, 33, 95, 97, 34, 35, 76, 93, 36, 82, 26, 27, 23, 89, 78,\n",
       "       47, 42, 24, 44, 18,  4,  3,  8,  1,  9,  7,  6,  2,  0,  5],\n",
       "      dtype=int64)"
      ]
     },
     "execution_count": 28,
     "metadata": {},
     "output_type": "execute_result"
    }
   ],
   "source": [
    "sort_index = np.argsort(w)\n",
    "sort_index"
   ]
  },
  {
   "cell_type": "markdown",
   "metadata": {},
   "source": [
    "the vector w returned by ridge regression correctly identify the relevant features"
   ]
  }
 ],
 "metadata": {
  "kernelspec": {
   "display_name": "Python 2",
   "language": "python",
   "name": "python2"
  },
  "language_info": {
   "codemirror_mode": {
    "name": "ipython",
    "version": 2
   },
   "file_extension": ".py",
   "mimetype": "text/x-python",
   "name": "python",
   "nbconvert_exporter": "python",
   "pygments_lexer": "ipython2",
   "version": "2.7.16"
  },
  "toc": {
   "colors": {
    "hover_highlight": "#DAA520",
    "navigate_num": "#000000",
    "navigate_text": "#333333",
    "running_highlight": "#FF0000",
    "selected_highlight": "#FFD700",
    "sidebar_border": "#EEEEEE",
    "wrapper_background": "#FFFFFF"
   },
   "moveMenuLeft": true,
   "nav_menu": {
    "height": "12px",
    "width": "252px"
   },
   "navigate_menu": true,
   "number_sections": false,
   "sideBar": true,
   "threshold": 4,
   "toc_cell": false,
   "toc_section_display": "block",
   "toc_window_display": false,
   "widenNotebook": false
  }
 },
 "nbformat": 4,
 "nbformat_minor": 2
}
