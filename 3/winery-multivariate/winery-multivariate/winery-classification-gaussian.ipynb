{
 "cells": [
  {
   "cell_type": "markdown",
   "metadata": {},
   "source": [
    "# Winery classification with the multivariate Gaussian"
   ]
  },
  {
   "cell_type": "markdown",
   "metadata": {},
   "source": [
    "In this notebook, we return to winery classification, using the full set of 13 features."
   ]
  },
  {
   "cell_type": "markdown",
   "metadata": {},
   "source": [
    "## 1. Load in the data "
   ]
  },
  {
   "cell_type": "markdown",
   "metadata": {},
   "source": [
    "As usual, we start by loading in the Wine data set. Make sure the file `wine.data.txt` is in the same directory as this notebook.\n",
    "\n",
    "Recall that there are 178 data points, each with 13 features and a label (1,2,3). As before, we will divide this into a training set of 130 points and a test set of 48 points."
   ]
  },
  {
   "cell_type": "code",
   "execution_count": 3,
   "metadata": {},
   "outputs": [],
   "source": [
    "# Standard includes\n",
    "%matplotlib inline\n",
    "import numpy as np\n",
    "import matplotlib.pyplot as plt\n",
    "# Useful module for dealing with the Gaussian density\n",
    "from scipy.stats import norm, multivariate_normal "
   ]
  },
  {
   "cell_type": "code",
   "execution_count": 4,
   "metadata": {},
   "outputs": [],
   "source": [
    "# Load data set.\n",
    "data = np.loadtxt('wine.data.txt', delimiter=',')\n",
    "# Names of features\n",
    "featurenames = ['Alcohol', 'Malic acid', 'Ash', 'Alcalinity of ash','Magnesium', 'Total phenols', \n",
    "                'Flavanoids', 'Nonflavanoid phenols', 'Proanthocyanins', 'Color intensity', 'Hue', \n",
    "                'OD280/OD315 of diluted wines', 'Proline']\n",
    "# Split 178 instances into training set (trainx, trainy) of size 130 and test set (testx, testy) of size 48\n",
    "np.random.seed(0)\n",
    "perm = np.random.permutation(178)\n",
    "trainx = data[perm[0:130],1:14]\n",
    "trainy = data[perm[0:130],0]\n",
    "testx = data[perm[130:178], 1:14]\n",
    "testy = data[perm[130:178],0]"
   ]
  },
  {
   "cell_type": "markdown",
   "metadata": {},
   "source": [
    "## 2. Fit a Gaussian generative model"
   ]
  },
  {
   "cell_type": "markdown",
   "metadata": {},
   "source": [
    "We now define a function that fits a Gaussian generative model to the data.\n",
    "For each class (`j=1,2,3`), we have:\n",
    "* `pi[j]`: the class weight\n",
    "* `mu[j,:]`: the mean, a 13-dimensional vector\n",
    "* `sigma[j,:,:]`: the 13x13 covariance matrix\n",
    "\n",
    "This means that `pi` is a 4x1 array (Python arrays are indexed starting at zero, and we aren't using `j=0`), `mu` is a 4x13 array and `sigma` is a 4x13x13 array."
   ]
  },
  {
   "cell_type": "code",
   "execution_count": 5,
   "metadata": {},
   "outputs": [],
   "source": [
    "def fit_generative_model(x,y):\n",
    "    k = 3  # labels 1,2,...,k\n",
    "    d = (x.shape)[1]  # number of features\n",
    "    mu = np.zeros((k+1,d))\n",
    "    sigma = np.zeros((k+1,d,d))\n",
    "    pi = np.zeros(k+1)\n",
    "    for label in range(1,k+1):\n",
    "        indices = (y == label)\n",
    "        mu[label] = np.mean(x[indices,:], axis=0)\n",
    "        sigma[label] = np.cov(x[indices,:], rowvar=0, bias=1)\n",
    "        pi[label] = float(sum(indices))/float(len(y))\n",
    "    return mu, sigma, pi"
   ]
  },
  {
   "cell_type": "code",
   "execution_count": 6,
   "metadata": {},
   "outputs": [],
   "source": [
    "# Fit a Gaussian generative model to the training data\n",
    "mu, sigma, pi = fit_generative_model(trainx,trainy)"
   ]
  },
  {
   "cell_type": "code",
   "execution_count": 7,
   "metadata": {},
   "outputs": [
    {
     "data": {
      "text/plain": [
       "array([[ 2.33252785e-01, -1.35961601e-02, -3.93531639e-03,\n",
       "        -3.13598161e-01,  1.05226609e+00,  6.06773391e-02,\n",
       "         7.52687399e-02,  4.65613845e-03,  6.21497566e-02,\n",
       "         2.21752244e-01,  1.14922120e-02, -1.16165495e-03,\n",
       "         4.04223580e+01],\n",
       "       [-1.35961601e-02,  4.31329475e-01, -9.77187669e-03,\n",
       "         2.38159546e-01, -2.44040022e-01, -1.37782044e-02,\n",
       "        -4.24053002e-02, -1.89085992e-03, -5.46760411e-02,\n",
       "        -2.14098215e-01, -3.71030827e-02,  1.33378042e-02,\n",
       "        -4.66765279e+01],\n",
       "       [-3.93531639e-03, -9.77187669e-03,  3.67746890e-02,\n",
       "         2.35263386e-01,  5.65473229e-01,  3.68015143e-03,\n",
       "        -1.40778799e-03,  4.47014602e-03, -1.05729584e-02,\n",
       "         1.23742564e-04,  5.77928610e-03, -5.94402380e-03,\n",
       "         6.13422390e+00],\n",
       "       [-3.13598161e-01,  2.38159546e-01,  2.35263386e-01,\n",
       "         6.04011898e+00,  5.56208761e+00, -1.75295295e-01,\n",
       "        -3.16022715e-01,  1.40292050e-02, -2.37452136e-01,\n",
       "        -5.97414278e-01, -1.85613845e-02, -6.50373175e-02,\n",
       "        -8.17156842e+01],\n",
       "       [ 1.05226609e+00, -2.44040022e-01,  5.65473229e-01,\n",
       "         5.56208761e+00,  1.18461871e+02,  1.38398594e+00,\n",
       "         6.48464035e-01,  1.17290427e-01, -3.50118983e-01,\n",
       "         3.74189832e+00, -1.81946998e-01,  8.17376961e-01,\n",
       "        -3.00108167e+02],\n",
       "       [ 6.06773391e-02, -1.37782044e-02,  3.68015143e-03,\n",
       "        -1.75295295e-01,  1.38398594e+00,  1.18153164e-01,\n",
       "         1.04524662e-01,  3.92709573e-03,  5.91709573e-02,\n",
       "         2.61355435e-01, -3.81541374e-03, -6.01676582e-04,\n",
       "         2.02678259e+01],\n",
       "       [ 7.52687399e-02, -4.24053002e-02, -1.40778799e-03,\n",
       "        -3.16022715e-01,  6.48464035e-01,  1.04524662e-01,\n",
       "         1.52409410e-01,  2.18723634e-03,  1.10493294e-01,\n",
       "         3.60203191e-01,  9.51563007e-03, -1.51237426e-02,\n",
       "         3.20915143e+01],\n",
       "       [ 4.65613845e-03, -1.89085992e-03,  4.47014602e-03,\n",
       "         1.40292050e-02,  1.17290427e-01,  3.92709573e-03,\n",
       "         2.18723634e-03,  3.55727420e-03, -3.43656030e-03,\n",
       "        -1.53272039e-04,  1.41844240e-03, -5.92163332e-03,\n",
       "         7.70378583e-01],\n",
       "       [ 6.21497566e-02, -5.46760411e-02, -1.05729584e-02,\n",
       "        -2.37452136e-01, -3.50118983e-01,  5.91709573e-02,\n",
       "         1.10493294e-01, -3.43656030e-03,  2.05457653e-01,\n",
       "         2.50525419e-01,  1.10727961e-02, -1.53767983e-02,\n",
       "         1.52768091e+01],\n",
       "       [ 2.21752244e-01, -2.14098215e-01,  1.23742564e-04,\n",
       "        -5.97414278e-01,  3.74189832e+00,  2.61355435e-01,\n",
       "         3.60203191e-01, -1.53272039e-04,  2.50525419e-01,\n",
       "         1.49972785e+00,  2.84552731e-02, -1.12931801e-01,\n",
       "         1.51096998e+02],\n",
       "       [ 1.14922120e-02, -3.71030827e-02,  5.77928610e-03,\n",
       "        -1.85613845e-02, -1.81946998e-01, -3.81541374e-03,\n",
       "         9.51563007e-03,  1.41844240e-03,  1.10727961e-02,\n",
       "         2.84552731e-02,  1.33248242e-02, -1.05645214e-02,\n",
       "         1.21730070e+01],\n",
       "       [-1.16165495e-03,  1.33378042e-02, -5.94402380e-03,\n",
       "        -6.50373175e-02,  8.17376961e-01, -6.01676582e-04,\n",
       "        -1.51237426e-02, -5.92163332e-03, -1.53767983e-02,\n",
       "        -1.12931801e-01, -1.05645214e-02,  1.26626609e-01,\n",
       "        -2.66168145e+01],\n",
       "       [ 4.04223580e+01, -4.66765279e+01,  6.13422390e+00,\n",
       "        -8.17156842e+01, -3.00108167e+02,  2.02678259e+01,\n",
       "         3.20915143e+01,  7.70378583e-01,  1.52768091e+01,\n",
       "         1.51096998e+02,  1.21730070e+01, -2.66168145e+01,\n",
       "         4.84457588e+04]])"
      ]
     },
     "execution_count": 7,
     "metadata": {},
     "output_type": "execute_result"
    }
   ],
   "source": [
    "sigma[1,: ,:]\n",
    "\n",
    "# cov matrix of label 1 wine"
   ]
  },
  {
   "cell_type": "markdown",
   "metadata": {},
   "source": [
    "## 3. Use the model to make predictions on the test set"
   ]
  },
  {
   "cell_type": "markdown",
   "metadata": {},
   "source": [
    "<font color=\"magenta\">**For you to do**</font>: Define a general purpose testing routine that takes as input:\n",
    "* the arrays `pi`, `mu`, `sigma` defining the generative model, as above\n",
    "* the test set (points `tx` and labels `ty`)\n",
    "* a list of features `features` (chosen from 0-12)\n",
    "\n",
    "It should return the number of mistakes made by the generative model on the test data, *when restricted to the specified features*. For instance, using the just three features 2 (`'Ash'`), 4 (`'Magnesium'`) and 6 (`'Flavanoids'`) results in 7 mistakes (out of 48 test points), so \n",
    "\n",
    "        `test_model(mu, sigma, pi, [2,4,6], testx, testy)` \n",
    "\n",
    "should print 7/48.\n",
    "\n",
    "**Hint:** The way you restrict attention to a subset of features is by choosing the corresponding coordinates of the full 13-dimensional mean and the appropriate submatrix of the full 13x13 covariance matrix."
   ]
  },
  {
   "cell_type": "code",
   "execution_count": 8,
   "metadata": {},
   "outputs": [],
   "source": [
    "# Now test the performance of a predictor based on a subset of features\n",
    "def test_model(mu, sigma, pi, features, tx, ty):\n",
    "    mu_sub = mu[:,features]\n",
    "    covar_sub = sigma[:,features,:][:,:,features]\n",
    "    random_vars = {}\n",
    "    for label in range (1,4):\n",
    "        random_vars[label] = multivariate_normal(mean = mu_sub[label,:],cov = covar_sub[label,:,:])\n",
    "    z = np.zeros(len(ty))\n",
    "    for i in range (0,len(ty)):\n",
    "        scores = []\n",
    "        for label in range (1,4):\n",
    "            scores.append(np.log(pi[label]) + random_vars[label].logpdf(tx[i,features]))\n",
    "        z[i] = np.argmax(scores)+1\n",
    "    err_position = np.not_equal(z,ty)\n",
    "    err_numb = np.sum(err_position)\n",
    "    return err_numb,z"
   ]
  },
  {
   "cell_type": "code",
   "execution_count": 9,
   "metadata": {},
   "outputs": [
    {
     "data": {
      "text/plain": [
       "array([3.67746890e-02, 1.18461871e+02, 1.52409410e-01])"
      ]
     },
     "execution_count": 9,
     "metadata": {},
     "output_type": "execute_result"
    }
   ],
   "source": [
    "sigma[1,[2,4,6],[2,4,6]]"
   ]
  },
  {
   "cell_type": "code",
   "execution_count": 10,
   "metadata": {},
   "outputs": [
    {
     "data": {
      "text/plain": [
       "(7, array([1., 2., 3., 3., 1., 1., 3., 1., 3., 2., 1., 1., 2., 1., 2., 2., 3.,\n",
       "        1., 3., 2., 3., 2., 1., 2., 1., 2., 3., 3., 2., 2., 2., 2., 3., 3.,\n",
       "        1., 1., 3., 2., 3., 2., 1., 1., 1., 2., 2., 2., 1., 3.]))"
      ]
     },
     "execution_count": 10,
     "metadata": {},
     "output_type": "execute_result"
    }
   ],
   "source": [
    "test_model(mu, sigma, pi, [2,4,6], testx, testy)\n"
   ]
  },
  {
   "cell_type": "code",
   "execution_count": 11,
   "metadata": {},
   "outputs": [
    {
     "data": {
      "text/plain": [
       "array([1., 2., 3., 3., 1., 1., 3., 1., 3., 2., 1., 1., 2., 1., 3., 2., 3.,\n",
       "       1., 3., 3., 3., 1., 2., 2., 2., 2., 3., 3., 2., 2., 1., 2., 3., 3.,\n",
       "       1., 1., 3., 2., 2., 2., 1., 1., 1., 2., 2., 2., 1., 3.])"
      ]
     },
     "execution_count": 11,
     "metadata": {},
     "output_type": "execute_result"
    }
   ],
   "source": [
    "testy"
   ]
  },
  {
   "cell_type": "code",
   "execution_count": null,
   "metadata": {},
   "outputs": [],
   "source": []
  },
  {
   "cell_type": "code",
   "execution_count": 12,
   "metadata": {},
   "outputs": [
    {
     "data": {
      "text/plain": [
       "array([  2.42790698, 105.8372093 ,   2.99627907])"
      ]
     },
     "execution_count": 12,
     "metadata": {},
     "output_type": "execute_result"
    }
   ],
   "source": [
    "mu,covar,pi = fit_generative_model(trainx,trainy)\n",
    "mu_sub=mu[:,[2,4,6]]\n",
    "mu_sub\n",
    "mu_sub[1]"
   ]
  },
  {
   "cell_type": "code",
   "execution_count": 13,
   "metadata": {},
   "outputs": [
    {
     "data": {
      "text/plain": [
       "array([0.        , 0.33076923, 0.41538462, 0.25384615])"
      ]
     },
     "execution_count": 13,
     "metadata": {},
     "output_type": "execute_result"
    }
   ],
   "source": [
    "pi"
   ]
  },
  {
   "cell_type": "code",
   "execution_count": 14,
   "metadata": {},
   "outputs": [
    {
     "data": {
      "text/plain": [
       "array([[[ 0.00000000e+00,  0.00000000e+00,  0.00000000e+00],\n",
       "        [ 0.00000000e+00,  0.00000000e+00,  0.00000000e+00],\n",
       "        [ 0.00000000e+00,  0.00000000e+00,  0.00000000e+00]],\n",
       "\n",
       "       [[ 3.67746890e-02,  5.65473229e-01, -1.40778799e-03],\n",
       "        [ 5.65473229e-01,  1.18461871e+02,  6.48464035e-01],\n",
       "        [-1.40778799e-03,  6.48464035e-01,  1.52409410e-01]],\n",
       "\n",
       "       [[ 1.12302332e-01,  9.88395062e-01,  9.11620713e-02],\n",
       "        [ 9.88395062e-01,  3.28509259e+02,  1.97993827e-01],\n",
       "        [ 9.11620713e-02,  1.97993827e-01,  5.68697291e-01]],\n",
       "\n",
       "       [[ 2.67597796e-02,  4.35426997e-01,  2.11539945e-02],\n",
       "        [ 4.35426997e-01,  1.25423324e+02,  1.47190083e+00],\n",
       "        [ 2.11539945e-02,  1.47190083e+00,  7.37531680e-02]]])"
      ]
     },
     "execution_count": 14,
     "metadata": {},
     "output_type": "execute_result"
    }
   ],
   "source": [
    "covar_sub = covar[:,[2,4,6],:]\n",
    "covar_sub = covar_sub [:,:,[2,4,6]]\n",
    "covar_sub"
   ]
  },
  {
   "cell_type": "code",
   "execution_count": 15,
   "metadata": {},
   "outputs": [
    {
     "data": {
      "text/plain": [
       "array([ 2.40090909, 99.03030303,  0.75727273])"
      ]
     },
     "execution_count": 15,
     "metadata": {},
     "output_type": "execute_result"
    }
   ],
   "source": [
    "indices = (trainy == 3)\n",
    "x=trainx[indices,:]\n",
    "np.mean(trainx[indices,:][:,[2,4,6]], axis=0)\n"
   ]
  },
  {
   "cell_type": "code",
   "execution_count": 16,
   "metadata": {},
   "outputs": [
    {
     "data": {
      "text/plain": [
       "(33L, 13L)"
      ]
     },
     "execution_count": 16,
     "metadata": {},
     "output_type": "execute_result"
    }
   ],
   "source": [
    "indices = (trainy == 3)\n",
    "trainx[indices,:].shape\n",
    "#np.mean(trainx[indices,[2,4,6]], axis=0)"
   ]
  },
  {
   "cell_type": "markdown",
   "metadata": {},
   "source": [
    "### <font color=\"magenta\">Fast exercises</font>"
   ]
  },
  {
   "cell_type": "markdown",
   "metadata": {},
   "source": [
    "*Note down the answers to these questions. You will need to enter them as part of this week's assignment.*"
   ]
  },
  {
   "cell_type": "markdown",
   "metadata": {},
   "source": [
    "Exercise 1. How many errors are made on the test set when using the single feature 'Ash'?"
   ]
  },
  {
   "cell_type": "code",
   "execution_count": 17,
   "metadata": {},
   "outputs": [
    {
     "data": {
      "text/plain": [
       "(29, array([1., 2., 1., 2., 1., 2., 1., 1., 1., 1., 1., 2., 1., 1., 1., 1., 1.,\n",
       "        1., 1., 1., 1., 2., 2., 1., 1., 2., 1., 1., 2., 2., 2., 2., 1., 2.,\n",
       "        1., 1., 1., 1., 2., 1., 2., 1., 2., 2., 2., 2., 2., 1.]))"
      ]
     },
     "execution_count": 17,
     "metadata": {},
     "output_type": "execute_result"
    }
   ],
   "source": [
    "test_model(mu, sigma, pi, [2], testx, testy)"
   ]
  },
  {
   "cell_type": "markdown",
   "metadata": {},
   "source": [
    "Exercise 2. How many errors when using 'Alcohol' and 'Ash'?"
   ]
  },
  {
   "cell_type": "code",
   "execution_count": 18,
   "metadata": {},
   "outputs": [
    {
     "data": {
      "text/plain": [
       "(12, array([1., 2., 3., 2., 1., 2., 3., 1., 3., 2., 1., 1., 2., 1., 3., 2., 2.,\n",
       "        1., 1., 1., 3., 1., 2., 2., 3., 2., 3., 1., 1., 2., 2., 2., 3., 1.,\n",
       "        1., 1., 3., 2., 2., 2., 1., 3., 1., 2., 2., 2., 1., 1.]))"
      ]
     },
     "execution_count": 18,
     "metadata": {},
     "output_type": "execute_result"
    }
   ],
   "source": [
    "test_model(mu, sigma, pi, [0,2], testx, testy)"
   ]
  },
  {
   "cell_type": "markdown",
   "metadata": {},
   "source": [
    "Exercise 3. How many errors when using 'Alcohol', 'Ash', and 'Flavanoids'?"
   ]
  },
  {
   "cell_type": "code",
   "execution_count": 19,
   "metadata": {},
   "outputs": [
    {
     "data": {
      "text/plain": [
       "(3, array([1., 2., 3., 3., 1., 2., 3., 1., 3., 2., 1., 1., 2., 1., 2., 2., 3.,\n",
       "        1., 3., 3., 3., 1., 2., 2., 2., 2., 3., 3., 2., 2., 2., 2., 3., 3.,\n",
       "        1., 1., 3., 2., 2., 2., 1., 1., 1., 2., 2., 2., 1., 3.]))"
      ]
     },
     "execution_count": 19,
     "metadata": {},
     "output_type": "execute_result"
    }
   ],
   "source": [
    "test_model(mu, sigma, pi, [0,2,6], testx, testy)"
   ]
  },
  {
   "cell_type": "markdown",
   "metadata": {},
   "source": [
    "Exercise 4. How many errors when using all 13 features?"
   ]
  },
  {
   "cell_type": "code",
   "execution_count": 20,
   "metadata": {},
   "outputs": [
    {
     "data": {
      "text/plain": [
       "(2, array([1., 2., 3., 3., 1., 1., 3., 1., 3., 2., 1., 1., 2., 1., 3., 2., 3.,\n",
       "        1., 3., 3., 3., 1., 2., 2., 2., 2., 3., 3., 2., 2., 2., 1., 3., 3.,\n",
       "        1., 1., 3., 2., 2., 2., 1., 1., 1., 2., 2., 2., 1., 3.]))"
      ]
     },
     "execution_count": 20,
     "metadata": {},
     "output_type": "execute_result"
    }
   ],
   "source": [
    "test_model(mu, sigma, pi, range(0,13), testx, testy)"
   ]
  },
  {
   "cell_type": "markdown",
   "metadata": {},
   "source": [
    "Exercise 5. In lecture, we got somewhat different answers to these questions. Why do you think that might be?"
   ]
  },
  {
   "cell_type": "code",
   "execution_count": null,
   "metadata": {},
   "outputs": [],
   "source": []
  }
 ],
 "metadata": {
  "kernelspec": {
   "display_name": "Python 2",
   "language": "python",
   "name": "python2"
  },
  "language_info": {
   "codemirror_mode": {
    "name": "ipython",
    "version": 2
   },
   "file_extension": ".py",
   "mimetype": "text/x-python",
   "name": "python",
   "nbconvert_exporter": "python",
   "pygments_lexer": "ipython2",
   "version": "2.7.16"
  },
  "toc": {
   "colors": {
    "hover_highlight": "#DAA520",
    "navigate_num": "#000000",
    "navigate_text": "#333333",
    "running_highlight": "#FF0000",
    "selected_highlight": "#FFD700",
    "sidebar_border": "#EEEEEE",
    "wrapper_background": "#FFFFFF"
   },
   "moveMenuLeft": true,
   "nav_menu": {
    "height": "12px",
    "width": "252px"
   },
   "navigate_menu": true,
   "number_sections": false,
   "sideBar": true,
   "threshold": 4,
   "toc_cell": false,
   "toc_section_display": "block",
   "toc_window_display": false,
   "widenNotebook": false
  }
 },
 "nbformat": 4,
 "nbformat_minor": 1
}
